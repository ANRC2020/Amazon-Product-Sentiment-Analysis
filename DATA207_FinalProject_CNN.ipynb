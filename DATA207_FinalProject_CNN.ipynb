{
 "cells": [
  {
   "cell_type": "markdown",
   "metadata": {},
   "source": [
    "# Sentiment Analysis on Amazon Food Reviews Dataset\n",
    "\n",
    "Author: Karanveer Lamba\n",
    "\n",
    "Submission Date: 5th August 2024"
   ]
  },
  {
   "cell_type": "code",
   "execution_count": 1,
   "metadata": {},
   "outputs": [
    {
     "name": "stderr",
     "output_type": "stream",
     "text": [
      "[nltk_data] Downloading package wordnet to ....\n",
      "[nltk_data]   Package wordnet is already up-to-date!\n"
     ]
    }
   ],
   "source": [
    "# Imports for the project\n",
    "import numpy as np\n",
    "import pandas as pd\n",
    "import matplotlib.pyplot as plt\n",
    "import seaborn as sns\n",
    "\n",
    "import re\n",
    "import string\n",
    "import nltk\n",
    "from nltk.corpus import stopwords, wordnet\n",
    "from nltk import pos_tag\n",
    "from nltk.tokenize import word_tokenize\n",
    "from nltk.stem import PorterStemmer\n",
    "from nltk.stem import WordNetLemmatizer \n",
    "Lemmatizer = WordNetLemmatizer()\n",
    "stemmer = nltk.SnowballStemmer(\"english\")\n",
    "\n",
    "from tensorflow.keras.preprocessing.text import Tokenizer\n",
    "from tensorflow.keras.preprocessing.sequence import pad_sequences\n",
    "from sklearn.model_selection import train_test_split\n",
    "\n",
    "#Import transformers\n",
    "import transformers\n",
    "import torch\n",
    "\n",
    "\n",
    "nltk.download('wordnet', download_dir=\".\")\n",
    "\n",
    "from wordcloud import STOPWORDS\n",
    "from collections import Counter\n",
    "import tensorflow as tf\n",
    "\n",
    "import pickle as pkl"
   ]
  },
  {
   "cell_type": "code",
   "execution_count": 2,
   "metadata": {},
   "outputs": [
    {
     "data": {
      "text/html": [
       "<div>\n",
       "<style scoped>\n",
       "    .dataframe tbody tr th:only-of-type {\n",
       "        vertical-align: middle;\n",
       "    }\n",
       "\n",
       "    .dataframe tbody tr th {\n",
       "        vertical-align: top;\n",
       "    }\n",
       "\n",
       "    .dataframe thead th {\n",
       "        text-align: right;\n",
       "    }\n",
       "</style>\n",
       "<table border=\"1\" class=\"dataframe\">\n",
       "  <thead>\n",
       "    <tr style=\"text-align: right;\">\n",
       "      <th></th>\n",
       "      <th>Id</th>\n",
       "      <th>ProductId</th>\n",
       "      <th>UserId</th>\n",
       "      <th>ProfileName</th>\n",
       "      <th>HelpfulnessNumerator</th>\n",
       "      <th>HelpfulnessDenominator</th>\n",
       "      <th>Score</th>\n",
       "      <th>Time</th>\n",
       "      <th>Summary</th>\n",
       "      <th>Text</th>\n",
       "    </tr>\n",
       "  </thead>\n",
       "  <tbody>\n",
       "    <tr>\n",
       "      <th>0</th>\n",
       "      <td>1</td>\n",
       "      <td>B001E4KFG0</td>\n",
       "      <td>A3SGXH7AUHU8GW</td>\n",
       "      <td>delmartian</td>\n",
       "      <td>1</td>\n",
       "      <td>1</td>\n",
       "      <td>5</td>\n",
       "      <td>1303862400</td>\n",
       "      <td>Good Quality Dog Food</td>\n",
       "      <td>I have bought several of the Vitality canned d...</td>\n",
       "    </tr>\n",
       "    <tr>\n",
       "      <th>1</th>\n",
       "      <td>2</td>\n",
       "      <td>B00813GRG4</td>\n",
       "      <td>A1D87F6ZCVE5NK</td>\n",
       "      <td>dll pa</td>\n",
       "      <td>0</td>\n",
       "      <td>0</td>\n",
       "      <td>1</td>\n",
       "      <td>1346976000</td>\n",
       "      <td>Not as Advertised</td>\n",
       "      <td>Product arrived labeled as Jumbo Salted Peanut...</td>\n",
       "    </tr>\n",
       "    <tr>\n",
       "      <th>2</th>\n",
       "      <td>3</td>\n",
       "      <td>B000LQOCH0</td>\n",
       "      <td>ABXLMWJIXXAIN</td>\n",
       "      <td>Natalia Corres \"Natalia Corres\"</td>\n",
       "      <td>1</td>\n",
       "      <td>1</td>\n",
       "      <td>4</td>\n",
       "      <td>1219017600</td>\n",
       "      <td>\"Delight\" says it all</td>\n",
       "      <td>This is a confection that has been around a fe...</td>\n",
       "    </tr>\n",
       "    <tr>\n",
       "      <th>3</th>\n",
       "      <td>4</td>\n",
       "      <td>B000UA0QIQ</td>\n",
       "      <td>A395BORC6FGVXV</td>\n",
       "      <td>Karl</td>\n",
       "      <td>3</td>\n",
       "      <td>3</td>\n",
       "      <td>2</td>\n",
       "      <td>1307923200</td>\n",
       "      <td>Cough Medicine</td>\n",
       "      <td>If you are looking for the secret ingredient i...</td>\n",
       "    </tr>\n",
       "    <tr>\n",
       "      <th>4</th>\n",
       "      <td>5</td>\n",
       "      <td>B006K2ZZ7K</td>\n",
       "      <td>A1UQRSCLF8GW1T</td>\n",
       "      <td>Michael D. Bigham \"M. Wassir\"</td>\n",
       "      <td>0</td>\n",
       "      <td>0</td>\n",
       "      <td>5</td>\n",
       "      <td>1350777600</td>\n",
       "      <td>Great taffy</td>\n",
       "      <td>Great taffy at a great price.  There was a wid...</td>\n",
       "    </tr>\n",
       "  </tbody>\n",
       "</table>\n",
       "</div>"
      ],
      "text/plain": [
       "   Id   ProductId          UserId                      ProfileName  \\\n",
       "0   1  B001E4KFG0  A3SGXH7AUHU8GW                       delmartian   \n",
       "1   2  B00813GRG4  A1D87F6ZCVE5NK                           dll pa   \n",
       "2   3  B000LQOCH0   ABXLMWJIXXAIN  Natalia Corres \"Natalia Corres\"   \n",
       "3   4  B000UA0QIQ  A395BORC6FGVXV                             Karl   \n",
       "4   5  B006K2ZZ7K  A1UQRSCLF8GW1T    Michael D. Bigham \"M. Wassir\"   \n",
       "\n",
       "   HelpfulnessNumerator  HelpfulnessDenominator  Score        Time  \\\n",
       "0                     1                       1      5  1303862400   \n",
       "1                     0                       0      1  1346976000   \n",
       "2                     1                       1      4  1219017600   \n",
       "3                     3                       3      2  1307923200   \n",
       "4                     0                       0      5  1350777600   \n",
       "\n",
       "                 Summary                                               Text  \n",
       "0  Good Quality Dog Food  I have bought several of the Vitality canned d...  \n",
       "1      Not as Advertised  Product arrived labeled as Jumbo Salted Peanut...  \n",
       "2  \"Delight\" says it all  This is a confection that has been around a fe...  \n",
       "3         Cough Medicine  If you are looking for the secret ingredient i...  \n",
       "4            Great taffy  Great taffy at a great price.  There was a wid...  "
      ]
     },
     "execution_count": 2,
     "metadata": {},
     "output_type": "execute_result"
    }
   ],
   "source": [
    "# Load the dataset\n",
    "df_kaggle = pd.read_csv('Reviews.csv')\n",
    "\n",
    "# Display the first few rows\n",
    "df_kaggle.head()"
   ]
  },
  {
   "cell_type": "markdown",
   "metadata": {},
   "source": [
    "## Using Pre-Trained Transformer"
   ]
  },
  {
   "cell_type": "code",
   "execution_count": 3,
   "metadata": {},
   "outputs": [],
   "source": [
    "# Pull data from the pickle file\n",
    "# Path to the pickle file\n",
    "pickle_file_path = 'transformer_preprocessed_data.pkl'\n",
    "\n",
    "# Open the pickle file in binary read mode\n",
    "with open(pickle_file_path, 'rb') as file:\n",
    "    df = pkl.load(file)"
   ]
  },
  {
   "cell_type": "code",
   "execution_count": 4,
   "metadata": {},
   "outputs": [
    {
     "data": {
      "text/html": [
       "<div>\n",
       "<style scoped>\n",
       "    .dataframe tbody tr th:only-of-type {\n",
       "        vertical-align: middle;\n",
       "    }\n",
       "\n",
       "    .dataframe tbody tr th {\n",
       "        vertical-align: top;\n",
       "    }\n",
       "\n",
       "    .dataframe thead th {\n",
       "        text-align: right;\n",
       "    }\n",
       "</style>\n",
       "<table border=\"1\" class=\"dataframe\">\n",
       "  <thead>\n",
       "    <tr style=\"text-align: right;\">\n",
       "      <th></th>\n",
       "      <th>Id</th>\n",
       "      <th>ProductId</th>\n",
       "      <th>UserId</th>\n",
       "      <th>ProfileName</th>\n",
       "      <th>HelpfulnessNumerator</th>\n",
       "      <th>HelpfulnessDenominator</th>\n",
       "      <th>Score</th>\n",
       "      <th>Time</th>\n",
       "      <th>Summary</th>\n",
       "      <th>Text</th>\n",
       "      <th>Sentiment</th>\n",
       "    </tr>\n",
       "  </thead>\n",
       "  <tbody>\n",
       "    <tr>\n",
       "      <th>0</th>\n",
       "      <td>1</td>\n",
       "      <td>B001E4KFG0</td>\n",
       "      <td>A3SGXH7AUHU8GW</td>\n",
       "      <td>delmartian</td>\n",
       "      <td>1</td>\n",
       "      <td>1</td>\n",
       "      <td>5</td>\n",
       "      <td>1303862400</td>\n",
       "      <td>Good Quality Dog Food</td>\n",
       "      <td>I have bought several of the Vitality canned d...</td>\n",
       "      <td>positive</td>\n",
       "    </tr>\n",
       "    <tr>\n",
       "      <th>1</th>\n",
       "      <td>2</td>\n",
       "      <td>B00813GRG4</td>\n",
       "      <td>A1D87F6ZCVE5NK</td>\n",
       "      <td>dll pa</td>\n",
       "      <td>0</td>\n",
       "      <td>0</td>\n",
       "      <td>1</td>\n",
       "      <td>1346976000</td>\n",
       "      <td>Not as Advertised</td>\n",
       "      <td>Product arrived labeled as Jumbo Salted Peanut...</td>\n",
       "      <td>negative</td>\n",
       "    </tr>\n",
       "    <tr>\n",
       "      <th>2</th>\n",
       "      <td>3</td>\n",
       "      <td>B000LQOCH0</td>\n",
       "      <td>ABXLMWJIXXAIN</td>\n",
       "      <td>Natalia Corres \"Natalia Corres\"</td>\n",
       "      <td>1</td>\n",
       "      <td>1</td>\n",
       "      <td>4</td>\n",
       "      <td>1219017600</td>\n",
       "      <td>\"Delight\" says it all</td>\n",
       "      <td>This is a confection that has been around a fe...</td>\n",
       "      <td>positive</td>\n",
       "    </tr>\n",
       "    <tr>\n",
       "      <th>3</th>\n",
       "      <td>4</td>\n",
       "      <td>B000UA0QIQ</td>\n",
       "      <td>A395BORC6FGVXV</td>\n",
       "      <td>Karl</td>\n",
       "      <td>3</td>\n",
       "      <td>3</td>\n",
       "      <td>2</td>\n",
       "      <td>1307923200</td>\n",
       "      <td>Cough Medicine</td>\n",
       "      <td>If you are looking for the secret ingredient i...</td>\n",
       "      <td>positive</td>\n",
       "    </tr>\n",
       "    <tr>\n",
       "      <th>4</th>\n",
       "      <td>5</td>\n",
       "      <td>B006K2ZZ7K</td>\n",
       "      <td>A1UQRSCLF8GW1T</td>\n",
       "      <td>Michael D. Bigham \"M. Wassir\"</td>\n",
       "      <td>0</td>\n",
       "      <td>0</td>\n",
       "      <td>5</td>\n",
       "      <td>1350777600</td>\n",
       "      <td>Great taffy</td>\n",
       "      <td>Great taffy at a great price.  There was a wid...</td>\n",
       "      <td>positive</td>\n",
       "    </tr>\n",
       "    <tr>\n",
       "      <th>...</th>\n",
       "      <td>...</td>\n",
       "      <td>...</td>\n",
       "      <td>...</td>\n",
       "      <td>...</td>\n",
       "      <td>...</td>\n",
       "      <td>...</td>\n",
       "      <td>...</td>\n",
       "      <td>...</td>\n",
       "      <td>...</td>\n",
       "      <td>...</td>\n",
       "      <td>...</td>\n",
       "    </tr>\n",
       "    <tr>\n",
       "      <th>568449</th>\n",
       "      <td>568450</td>\n",
       "      <td>B001EO7N10</td>\n",
       "      <td>A28KG5XORO54AY</td>\n",
       "      <td>Lettie D. Carter</td>\n",
       "      <td>0</td>\n",
       "      <td>0</td>\n",
       "      <td>5</td>\n",
       "      <td>1299628800</td>\n",
       "      <td>Will not do without</td>\n",
       "      <td>Great for sesame chicken..this is a good if no...</td>\n",
       "      <td>positive</td>\n",
       "    </tr>\n",
       "    <tr>\n",
       "      <th>568450</th>\n",
       "      <td>568451</td>\n",
       "      <td>B003S1WTCU</td>\n",
       "      <td>A3I8AFVPEE8KI5</td>\n",
       "      <td>R. Sawyer</td>\n",
       "      <td>0</td>\n",
       "      <td>0</td>\n",
       "      <td>2</td>\n",
       "      <td>1331251200</td>\n",
       "      <td>disappointed</td>\n",
       "      <td>I'm disappointed with the flavor. The chocolat...</td>\n",
       "      <td>negative</td>\n",
       "    </tr>\n",
       "    <tr>\n",
       "      <th>568451</th>\n",
       "      <td>568452</td>\n",
       "      <td>B004I613EE</td>\n",
       "      <td>A121AA1GQV751Z</td>\n",
       "      <td>pksd \"pk_007\"</td>\n",
       "      <td>2</td>\n",
       "      <td>2</td>\n",
       "      <td>5</td>\n",
       "      <td>1329782400</td>\n",
       "      <td>Perfect for our maltipoo</td>\n",
       "      <td>These stars are small, so you can give 10-15 o...</td>\n",
       "      <td>neutral</td>\n",
       "    </tr>\n",
       "    <tr>\n",
       "      <th>568452</th>\n",
       "      <td>568453</td>\n",
       "      <td>B004I613EE</td>\n",
       "      <td>A3IBEVCTXKNOH</td>\n",
       "      <td>Kathy A. Welch \"katwel\"</td>\n",
       "      <td>1</td>\n",
       "      <td>1</td>\n",
       "      <td>5</td>\n",
       "      <td>1331596800</td>\n",
       "      <td>Favorite Training and reward treat</td>\n",
       "      <td>These are the BEST treats for training and rew...</td>\n",
       "      <td>positive</td>\n",
       "    </tr>\n",
       "    <tr>\n",
       "      <th>568453</th>\n",
       "      <td>568454</td>\n",
       "      <td>B001LR2CU2</td>\n",
       "      <td>A3LGQPJCZVL9UC</td>\n",
       "      <td>srfell17</td>\n",
       "      <td>0</td>\n",
       "      <td>0</td>\n",
       "      <td>5</td>\n",
       "      <td>1338422400</td>\n",
       "      <td>Great Honey</td>\n",
       "      <td>I am very satisfied ,product is as advertised,...</td>\n",
       "      <td>positive</td>\n",
       "    </tr>\n",
       "  </tbody>\n",
       "</table>\n",
       "<p>393675 rows × 11 columns</p>\n",
       "</div>"
      ],
      "text/plain": [
       "            Id   ProductId          UserId                      ProfileName  \\\n",
       "0            1  B001E4KFG0  A3SGXH7AUHU8GW                       delmartian   \n",
       "1            2  B00813GRG4  A1D87F6ZCVE5NK                           dll pa   \n",
       "2            3  B000LQOCH0   ABXLMWJIXXAIN  Natalia Corres \"Natalia Corres\"   \n",
       "3            4  B000UA0QIQ  A395BORC6FGVXV                             Karl   \n",
       "4            5  B006K2ZZ7K  A1UQRSCLF8GW1T    Michael D. Bigham \"M. Wassir\"   \n",
       "...        ...         ...             ...                              ...   \n",
       "568449  568450  B001EO7N10  A28KG5XORO54AY                 Lettie D. Carter   \n",
       "568450  568451  B003S1WTCU  A3I8AFVPEE8KI5                        R. Sawyer   \n",
       "568451  568452  B004I613EE  A121AA1GQV751Z                    pksd \"pk_007\"   \n",
       "568452  568453  B004I613EE   A3IBEVCTXKNOH          Kathy A. Welch \"katwel\"   \n",
       "568453  568454  B001LR2CU2  A3LGQPJCZVL9UC                         srfell17   \n",
       "\n",
       "        HelpfulnessNumerator  HelpfulnessDenominator  Score        Time  \\\n",
       "0                          1                       1      5  1303862400   \n",
       "1                          0                       0      1  1346976000   \n",
       "2                          1                       1      4  1219017600   \n",
       "3                          3                       3      2  1307923200   \n",
       "4                          0                       0      5  1350777600   \n",
       "...                      ...                     ...    ...         ...   \n",
       "568449                     0                       0      5  1299628800   \n",
       "568450                     0                       0      2  1331251200   \n",
       "568451                     2                       2      5  1329782400   \n",
       "568452                     1                       1      5  1331596800   \n",
       "568453                     0                       0      5  1338422400   \n",
       "\n",
       "                                   Summary  \\\n",
       "0                    Good Quality Dog Food   \n",
       "1                        Not as Advertised   \n",
       "2                    \"Delight\" says it all   \n",
       "3                           Cough Medicine   \n",
       "4                              Great taffy   \n",
       "...                                    ...   \n",
       "568449                 Will not do without   \n",
       "568450                        disappointed   \n",
       "568451            Perfect for our maltipoo   \n",
       "568452  Favorite Training and reward treat   \n",
       "568453                         Great Honey   \n",
       "\n",
       "                                                     Text Sentiment  \n",
       "0       I have bought several of the Vitality canned d...  positive  \n",
       "1       Product arrived labeled as Jumbo Salted Peanut...  negative  \n",
       "2       This is a confection that has been around a fe...  positive  \n",
       "3       If you are looking for the secret ingredient i...  positive  \n",
       "4       Great taffy at a great price.  There was a wid...  positive  \n",
       "...                                                   ...       ...  \n",
       "568449  Great for sesame chicken..this is a good if no...  positive  \n",
       "568450  I'm disappointed with the flavor. The chocolat...  negative  \n",
       "568451  These stars are small, so you can give 10-15 o...   neutral  \n",
       "568452  These are the BEST treats for training and rew...  positive  \n",
       "568453  I am very satisfied ,product is as advertised,...  positive  \n",
       "\n",
       "[393675 rows x 11 columns]"
      ]
     },
     "execution_count": 4,
     "metadata": {},
     "output_type": "execute_result"
    }
   ],
   "source": [
    "df"
   ]
  },
  {
   "cell_type": "markdown",
   "metadata": {},
   "source": [
    "## Pre-processing the data"
   ]
  },
  {
   "cell_type": "code",
   "execution_count": 5,
   "metadata": {},
   "outputs": [
    {
     "data": {
      "text/plain": [
       "Text         0\n",
       "Score        0\n",
       "Sentiment    0\n",
       "dtype: int64"
      ]
     },
     "execution_count": 5,
     "metadata": {},
     "output_type": "execute_result"
    }
   ],
   "source": [
    "# Find null values\n",
    "df[['Text','Score', 'Sentiment']].isnull().sum()"
   ]
  },
  {
   "cell_type": "code",
   "execution_count": 6,
   "metadata": {},
   "outputs": [
    {
     "data": {
      "text/html": [
       "<div>\n",
       "<style scoped>\n",
       "    .dataframe tbody tr th:only-of-type {\n",
       "        vertical-align: middle;\n",
       "    }\n",
       "\n",
       "    .dataframe tbody tr th {\n",
       "        vertical-align: top;\n",
       "    }\n",
       "\n",
       "    .dataframe thead th {\n",
       "        text-align: right;\n",
       "    }\n",
       "</style>\n",
       "<table border=\"1\" class=\"dataframe\">\n",
       "  <thead>\n",
       "    <tr style=\"text-align: right;\">\n",
       "      <th></th>\n",
       "      <th>Score</th>\n",
       "      <th>Text</th>\n",
       "      <th>Sentiment</th>\n",
       "    </tr>\n",
       "  </thead>\n",
       "  <tbody>\n",
       "    <tr>\n",
       "      <th>0</th>\n",
       "      <td>5</td>\n",
       "      <td>I have bought several of the Vitality canned d...</td>\n",
       "      <td>positive</td>\n",
       "    </tr>\n",
       "    <tr>\n",
       "      <th>1</th>\n",
       "      <td>1</td>\n",
       "      <td>Product arrived labeled as Jumbo Salted Peanut...</td>\n",
       "      <td>negative</td>\n",
       "    </tr>\n",
       "    <tr>\n",
       "      <th>2</th>\n",
       "      <td>4</td>\n",
       "      <td>This is a confection that has been around a fe...</td>\n",
       "      <td>positive</td>\n",
       "    </tr>\n",
       "    <tr>\n",
       "      <th>3</th>\n",
       "      <td>2</td>\n",
       "      <td>If you are looking for the secret ingredient i...</td>\n",
       "      <td>positive</td>\n",
       "    </tr>\n",
       "    <tr>\n",
       "      <th>4</th>\n",
       "      <td>5</td>\n",
       "      <td>Great taffy at a great price.  There was a wid...</td>\n",
       "      <td>positive</td>\n",
       "    </tr>\n",
       "  </tbody>\n",
       "</table>\n",
       "</div>"
      ],
      "text/plain": [
       "   Score                                               Text Sentiment\n",
       "0      5  I have bought several of the Vitality canned d...  positive\n",
       "1      1  Product arrived labeled as Jumbo Salted Peanut...  negative\n",
       "2      4  This is a confection that has been around a fe...  positive\n",
       "3      2  If you are looking for the secret ingredient i...  positive\n",
       "4      5  Great taffy at a great price.  There was a wid...  positive"
      ]
     },
     "execution_count": 6,
     "metadata": {},
     "output_type": "execute_result"
    }
   ],
   "source": [
    "# We are treating the Text column as the feature variable and score as the target variable\n",
    "df = df[['Score', 'Text', 'Sentiment']]\n",
    "\n",
    "df.head()"
   ]
  },
  {
   "cell_type": "code",
   "execution_count": 7,
   "metadata": {},
   "outputs": [
    {
     "name": "stderr",
     "output_type": "stream",
     "text": [
      "/var/folders/yf/wjmrp9xs1rn2rmmhttv8wjt80000gn/T/ipykernel_44091/1109385273.py:2: SettingWithCopyWarning: \n",
      "A value is trying to be set on a copy of a slice from a DataFrame\n",
      "\n",
      "See the caveats in the documentation: https://pandas.pydata.org/pandas-docs/stable/user_guide/indexing.html#returning-a-view-versus-a-copy\n",
      "  df.drop_duplicates(subset=['Text','Score','Sentiment'],keep='first',inplace=True)\n"
     ]
    }
   ],
   "source": [
    "# Keeping only the first of any duplicates\n",
    "df.drop_duplicates(subset=['Text','Score','Sentiment'],keep='first',inplace=True) "
   ]
  },
  {
   "cell_type": "code",
   "execution_count": 8,
   "metadata": {},
   "outputs": [
    {
     "data": {
      "text/plain": [
       "(393675, 3)"
      ]
     },
     "execution_count": 8,
     "metadata": {},
     "output_type": "execute_result"
    }
   ],
   "source": [
    "df.shape"
   ]
  },
  {
   "cell_type": "code",
   "execution_count": 9,
   "metadata": {},
   "outputs": [],
   "source": [
    "# Create a copy of the dataframe for preprocessing and further EDA\n",
    "df_reviews = df.copy()"
   ]
  },
  {
   "cell_type": "code",
   "execution_count": 10,
   "metadata": {},
   "outputs": [
    {
     "data": {
      "text/html": [
       "<div>\n",
       "<style scoped>\n",
       "    .dataframe tbody tr th:only-of-type {\n",
       "        vertical-align: middle;\n",
       "    }\n",
       "\n",
       "    .dataframe tbody tr th {\n",
       "        vertical-align: top;\n",
       "    }\n",
       "\n",
       "    .dataframe thead th {\n",
       "        text-align: right;\n",
       "    }\n",
       "</style>\n",
       "<table border=\"1\" class=\"dataframe\">\n",
       "  <thead>\n",
       "    <tr style=\"text-align: right;\">\n",
       "      <th></th>\n",
       "      <th>Score</th>\n",
       "      <th>Text</th>\n",
       "      <th>Sentiment</th>\n",
       "    </tr>\n",
       "  </thead>\n",
       "  <tbody>\n",
       "    <tr>\n",
       "      <th>0</th>\n",
       "      <td>5</td>\n",
       "      <td>I have bought several of the Vitality canned d...</td>\n",
       "      <td>positive</td>\n",
       "    </tr>\n",
       "    <tr>\n",
       "      <th>1</th>\n",
       "      <td>1</td>\n",
       "      <td>Product arrived labeled as Jumbo Salted Peanut...</td>\n",
       "      <td>negative</td>\n",
       "    </tr>\n",
       "    <tr>\n",
       "      <th>2</th>\n",
       "      <td>4</td>\n",
       "      <td>This is a confection that has been around a fe...</td>\n",
       "      <td>positive</td>\n",
       "    </tr>\n",
       "    <tr>\n",
       "      <th>3</th>\n",
       "      <td>2</td>\n",
       "      <td>If you are looking for the secret ingredient i...</td>\n",
       "      <td>positive</td>\n",
       "    </tr>\n",
       "    <tr>\n",
       "      <th>4</th>\n",
       "      <td>5</td>\n",
       "      <td>Great taffy at a great price.  There was a wid...</td>\n",
       "      <td>positive</td>\n",
       "    </tr>\n",
       "    <tr>\n",
       "      <th>...</th>\n",
       "      <td>...</td>\n",
       "      <td>...</td>\n",
       "      <td>...</td>\n",
       "    </tr>\n",
       "    <tr>\n",
       "      <th>568449</th>\n",
       "      <td>5</td>\n",
       "      <td>Great for sesame chicken..this is a good if no...</td>\n",
       "      <td>positive</td>\n",
       "    </tr>\n",
       "    <tr>\n",
       "      <th>568450</th>\n",
       "      <td>2</td>\n",
       "      <td>I'm disappointed with the flavor. The chocolat...</td>\n",
       "      <td>negative</td>\n",
       "    </tr>\n",
       "    <tr>\n",
       "      <th>568451</th>\n",
       "      <td>5</td>\n",
       "      <td>These stars are small, so you can give 10-15 o...</td>\n",
       "      <td>neutral</td>\n",
       "    </tr>\n",
       "    <tr>\n",
       "      <th>568452</th>\n",
       "      <td>5</td>\n",
       "      <td>These are the BEST treats for training and rew...</td>\n",
       "      <td>positive</td>\n",
       "    </tr>\n",
       "    <tr>\n",
       "      <th>568453</th>\n",
       "      <td>5</td>\n",
       "      <td>I am very satisfied ,product is as advertised,...</td>\n",
       "      <td>positive</td>\n",
       "    </tr>\n",
       "  </tbody>\n",
       "</table>\n",
       "<p>393675 rows × 3 columns</p>\n",
       "</div>"
      ],
      "text/plain": [
       "        Score                                               Text Sentiment\n",
       "0           5  I have bought several of the Vitality canned d...  positive\n",
       "1           1  Product arrived labeled as Jumbo Salted Peanut...  negative\n",
       "2           4  This is a confection that has been around a fe...  positive\n",
       "3           2  If you are looking for the secret ingredient i...  positive\n",
       "4           5  Great taffy at a great price.  There was a wid...  positive\n",
       "...       ...                                                ...       ...\n",
       "568449      5  Great for sesame chicken..this is a good if no...  positive\n",
       "568450      2  I'm disappointed with the flavor. The chocolat...  negative\n",
       "568451      5  These stars are small, so you can give 10-15 o...   neutral\n",
       "568452      5  These are the BEST treats for training and rew...  positive\n",
       "568453      5  I am very satisfied ,product is as advertised,...  positive\n",
       "\n",
       "[393675 rows x 3 columns]"
      ]
     },
     "execution_count": 10,
     "metadata": {},
     "output_type": "execute_result"
    }
   ],
   "source": [
    "df_reviews"
   ]
  },
  {
   "cell_type": "code",
   "execution_count": 11,
   "metadata": {},
   "outputs": [
    {
     "data": {
      "image/png": "[encoded data removed]",
      "text/plain": [
       "<Figure size 640x480 with 1 Axes>"
      ]
     },
     "metadata": {},
     "output_type": "display_data"
    }
   ],
   "source": [
    "import seaborn as sns\n",
    "import matplotlib.pyplot as plt\n",
    "\n",
    "# Define custom palette\n",
    "custom_palette = {\n",
    "    'positive': '#08306b',  # Darkest blue\n",
    "    'neutral': '#2171b5',   # Slightly less blue\n",
    "    'negative': '#c6dbef'   # Very light blue\n",
    "}\n",
    "\n",
    "sns.countplot(data=df_reviews, x='Score', hue='Sentiment', palette=custom_palette)\n",
    "\n",
    "plt.title(\"Sentiment vs Score Assessment\")\n",
    "plt.ylabel(\"Count\")\n",
    "plt.show()"
   ]
  },
  {
   "cell_type": "code",
   "execution_count": 12,
   "metadata": {},
   "outputs": [],
   "source": [
    "# Drop all neutrally scored reviews\n",
    "df_reviews = df_reviews[df_reviews['Sentiment']!='neutral']\n",
    "df_reviews = df_reviews[df_reviews['Score']!=3]\n",
    "\n",
    "# Drop all conflicting reviews\n",
    "\n",
    "df_reviews = df_reviews[~((df_reviews['Score'] >= 4) & (df_reviews['Sentiment'] != 'positive'))]\n",
    "df_reviews = df_reviews[~((df_reviews['Score'] <= 2) & (df_reviews['Sentiment'] != 'negative'))]"
   ]
  },
  {
   "cell_type": "code",
   "execution_count": 13,
   "metadata": {},
   "outputs": [
    {
     "data": {
      "text/plain": [
       "-17.281513939163016"
      ]
     },
     "execution_count": 13,
     "metadata": {},
     "output_type": "execute_result"
    }
   ],
   "source": [
    "# Data loss\n",
    "((df_reviews.shape[0] - df.shape[0]) / df.shape[0]) *100"
   ]
  },
  {
   "cell_type": "code",
   "execution_count": 14,
   "metadata": {},
   "outputs": [
    {
     "data": {
      "text/plain": [
       "(325642, 3)"
      ]
     },
     "execution_count": 14,
     "metadata": {},
     "output_type": "execute_result"
    }
   ],
   "source": [
    "df_reviews.shape"
   ]
  },
  {
   "cell_type": "code",
   "execution_count": 15,
   "metadata": {},
   "outputs": [],
   "source": [
    "# Expansion of english contractions\n",
    "def contraction_expansion(content):\n",
    "    content = re.sub(r\"won\\'t\", \"would not\", content)\n",
    "    content = re.sub(r\"can\\'t\", \"can not\", content)\n",
    "    content = re.sub(r\"don\\'t\", \"do not\", content)\n",
    "    content = re.sub(r\"shouldn\\'t\", \"should not\", content)\n",
    "    content = re.sub(r\"needn\\'t\", \"need not\", content)\n",
    "    content = re.sub(r\"hasn\\'t\", \"has not\", content)\n",
    "    content = re.sub(r\"haven\\'t\", \"have not\", content)\n",
    "    content = re.sub(r\"weren\\'t\", \"were not\", content)\n",
    "    content = re.sub(r\"mightn\\'t\", \"might not\", content)\n",
    "    content = re.sub(r\"didn\\'t\", \"did not\", content)\n",
    "    content = re.sub(r\"n\\'t\", \" not\", content)\n",
    "    return content"
   ]
  },
  {
   "cell_type": "code",
   "execution_count": 16,
   "metadata": {},
   "outputs": [],
   "source": [
    "# Clean dataset\n",
    "# Function to clean up the texts and get the stemmed version of words\n",
    "# Stemming: Running -> Run, preprocessing -> process\n",
    "\n",
    "def clean(text):\n",
    "    text=str(text).lower()\n",
    "     # Remove text within square brackets\n",
    "    text=re.sub('\\[.*?\\]','',text)\n",
    "    # Remove URLs\n",
    "    text=re.sub('https?://\\S+|www\\.\\S+','',text)\n",
    "    # Remove HTML tags\n",
    "    text = re.sub('<.*?>+', '', text)\n",
    "    #  Removing Punctuation\n",
    "    text = re.sub(r'[^\\w\\s]', '', text)\n",
    "    # Replace newline characters with spaces\n",
    "    text = re.sub('\\n', '', text)\n",
    "    # Remove words containing digits\n",
    "    text = re.sub('\\w*\\d\\w*', '', text)\n",
    "    # Remove special chartacters\n",
    "    text = re.sub('\\W+', ' ', text)\n",
    "    # Expand defined contractions\n",
    "    text = contraction_expansion(text)\n",
    "     # Tokenize the text and remove stopwords\n",
    "    text = [word for word in text.split(' ') if word not in STOPWORDS]\n",
    "    text=\" \".join(text)\n",
    "    # Stem the remaining words\n",
    "    text = [stemmer.stem(word) for word in text.split(' ')]\n",
    "    # Join the cleaned and stemmed words back into a string\n",
    "    text=\" \".join(text)\n",
    "    return text\n",
    "\n",
    "df_reviews['Text'] = df_reviews[\"Text\"].apply(clean)"
   ]
  },
  {
   "cell_type": "markdown",
   "metadata": {},
   "source": [
    "## Exploratory Data Analysis (EDA)"
   ]
  },
  {
   "cell_type": "code",
   "execution_count": 17,
   "metadata": {},
   "outputs": [],
   "source": [
    "# Drop neutral reviews\n",
    "df_reviews = df_reviews[df_reviews['Score'] != 3]"
   ]
  },
  {
   "cell_type": "code",
   "execution_count": 18,
   "metadata": {},
   "outputs": [],
   "source": [
    "# Convert the score column into a binary label\n",
    "def group(score):\n",
    "    if score > 3:\n",
    "        return 1\n",
    "    elif score <= 3:\n",
    "        return 0\n",
    "\n",
    "df_reviews['Score'] = df_reviews['Score'].apply(group)"
   ]
  },
  {
   "cell_type": "code",
   "execution_count": 83,
   "metadata": {},
   "outputs": [
    {
     "data": {
      "image/png": "[encoded data removed]",
      "text/plain": [
       "<Figure size 640x480 with 1 Axes>"
      ]
     },
     "metadata": {},
     "output_type": "display_data"
    }
   ],
   "source": [
    "# Assess class imbalance\n",
    "sns.countplot(x=df_reviews['Score'].map({0:\"Negative (0)\", 1:\"Positive (1)\"}), palette='crest') # The classes are imbalanced in favor of positive reviews\n",
    "plt.title('Distribution of Review Scores')\n",
    "plt.xlabel('Score')\n",
    "plt.ylabel('Count')\n",
    "\n",
    "# Add outer border to the entire figure\n",
    "fig = plt.gcf()\n",
    "fig.patch.set_edgecolor('black')\n",
    "fig.patch.set_linewidth(2)\n",
    "    \n",
    "plt.show()"
   ]
  },
  {
   "cell_type": "code",
   "execution_count": 20,
   "metadata": {},
   "outputs": [
    {
     "name": "stderr",
     "output_type": "stream",
     "text": [
      "/Users/karanveer_lamba/anaconda3/lib/python3.11/site-packages/seaborn/_oldcore.py:1119: FutureWarning: use_inf_as_na option is deprecated and will be removed in a future version. Convert inf values to NaN before operating instead.\n",
      "  with pd.option_context('mode.use_inf_as_na', True):\n",
      "/Users/karanveer_lamba/anaconda3/lib/python3.11/site-packages/seaborn/_oldcore.py:1119: FutureWarning: use_inf_as_na option is deprecated and will be removed in a future version. Convert inf values to NaN before operating instead.\n",
      "  with pd.option_context('mode.use_inf_as_na', True):\n"
     ]
    },
    {
     "data": {
      "image/png": "[encoded data removed]",
      "text/plain": [
       "<Figure size 1000x500 with 2 Axes>"
      ]
     },
     "metadata": {},
     "output_type": "display_data"
    }
   ],
   "source": [
    "# Plotting review length for positive and negative reviews\n",
    "figure, (pos_ax, neg_ax) = plt.subplots(1, 2, figsize=(10, 5), sharey=True)\n",
    "\n",
    "# Extract lengths of positive and negative reviews\n",
    "len_pos_rev = df_reviews[df_reviews['Score'] == 1]['Text'].str.len()\n",
    "len_neg_rev = df_reviews[df_reviews['Score'] == 0]['Text'].str.len()\n",
    "\n",
    "# Plot histograms using seaborn\n",
    "sns.histplot(len_pos_rev, color='green', ax=pos_ax, kde=False)\n",
    "pos_ax.set_title('Positive Reviews')\n",
    "pos_ax.set_xlabel('Character Length')\n",
    "\n",
    "sns.histplot(len_neg_rev, color='red', ax=neg_ax, kde=False)\n",
    "neg_ax.set_title('Negative Reviews')\n",
    "neg_ax.set_xlabel('Character Length')\n",
    "\n",
    "figure.suptitle(\"Number of Characters in Reviews\")\n",
    "\n",
    "# Show the plot\n",
    "plt.show()\n"
   ]
  },
  {
   "cell_type": "code",
   "execution_count": 21,
   "metadata": {},
   "outputs": [
    {
     "name": "stderr",
     "output_type": "stream",
     "text": [
      "/Users/karanveer_lamba/anaconda3/lib/python3.11/site-packages/seaborn/_oldcore.py:1119: FutureWarning: use_inf_as_na option is deprecated and will be removed in a future version. Convert inf values to NaN before operating instead.\n",
      "  with pd.option_context('mode.use_inf_as_na', True):\n",
      "/Users/karanveer_lamba/anaconda3/lib/python3.11/site-packages/seaborn/_oldcore.py:1119: FutureWarning: use_inf_as_na option is deprecated and will be removed in a future version. Convert inf values to NaN before operating instead.\n",
      "  with pd.option_context('mode.use_inf_as_na', True):\n"
     ]
    },
    {
     "data": {
      "image/png": "[encoded data removed]",
      "text/plain": [
       "<Figure size 1000x500 with 2 Axes>"
      ]
     },
     "metadata": {},
     "output_type": "display_data"
    }
   ],
   "source": [
    "# Plotting number of words for positive and negative reviews\n",
    "figure, (pos_ax, neg_ax) = plt.subplots(1, 2, figsize=(10, 5), sharey=True)\n",
    "\n",
    "# Extract lengths of positive and negative reviews\n",
    "pos_words = df_reviews[df_reviews['Score'] == 1]['Text'].str.split().map(lambda review: len(review))\n",
    "neg_words = df_reviews[df_reviews['Score'] == 0]['Text'].str.split().map(lambda review: len(review))\n",
    "\n",
    "# Plot histograms using seaborn\n",
    "sns.histplot(pos_words, color='green', ax=pos_ax, kde=False)\n",
    "pos_ax.set_title('Positive Reviews')\n",
    "pos_ax.set_xlabel('# of Words')\n",
    "\n",
    "sns.histplot(neg_words, color='red', ax=neg_ax, kde=False)\n",
    "neg_ax.set_title('Negative Reviews')\n",
    "neg_ax.set_xlabel('# of Words')\n",
    "\n",
    "figure.suptitle(\"Number of Words in Reviews\")\n",
    "\n",
    "# Show the plot\n",
    "plt.show()"
   ]
  },
  {
   "cell_type": "code",
   "execution_count": 22,
   "metadata": {},
   "outputs": [
    {
     "data": {
      "text/html": [
       "<div>\n",
       "<style scoped>\n",
       "    .dataframe tbody tr th:only-of-type {\n",
       "        vertical-align: middle;\n",
       "    }\n",
       "\n",
       "    .dataframe tbody tr th {\n",
       "        vertical-align: top;\n",
       "    }\n",
       "\n",
       "    .dataframe thead th {\n",
       "        text-align: right;\n",
       "    }\n",
       "</style>\n",
       "<table border=\"1\" class=\"dataframe\">\n",
       "  <thead>\n",
       "    <tr style=\"text-align: right;\">\n",
       "      <th></th>\n",
       "      <th>pos_reviews</th>\n",
       "      <th>neg_reviews</th>\n",
       "    </tr>\n",
       "  </thead>\n",
       "  <tbody>\n",
       "    <tr>\n",
       "      <th>count</th>\n",
       "      <td>283098.000000</td>\n",
       "      <td>42544.000000</td>\n",
       "    </tr>\n",
       "    <tr>\n",
       "      <th>mean</th>\n",
       "      <td>35.725279</td>\n",
       "      <td>38.128220</td>\n",
       "    </tr>\n",
       "    <tr>\n",
       "      <th>std</th>\n",
       "      <td>32.781437</td>\n",
       "      <td>33.876571</td>\n",
       "    </tr>\n",
       "    <tr>\n",
       "      <th>min</th>\n",
       "      <td>1.000000</td>\n",
       "      <td>0.000000</td>\n",
       "    </tr>\n",
       "    <tr>\n",
       "      <th>25%</th>\n",
       "      <td>16.000000</td>\n",
       "      <td>17.000000</td>\n",
       "    </tr>\n",
       "    <tr>\n",
       "      <th>50%</th>\n",
       "      <td>26.000000</td>\n",
       "      <td>29.000000</td>\n",
       "    </tr>\n",
       "    <tr>\n",
       "      <th>75%</th>\n",
       "      <td>44.000000</td>\n",
       "      <td>47.000000</td>\n",
       "    </tr>\n",
       "    <tr>\n",
       "      <th>max</th>\n",
       "      <td>1170.000000</td>\n",
       "      <td>982.000000</td>\n",
       "    </tr>\n",
       "  </tbody>\n",
       "</table>\n",
       "</div>"
      ],
      "text/plain": [
       "         pos_reviews   neg_reviews\n",
       "count  283098.000000  42544.000000\n",
       "mean       35.725279     38.128220\n",
       "std        32.781437     33.876571\n",
       "min         1.000000      0.000000\n",
       "25%        16.000000     17.000000\n",
       "50%        26.000000     29.000000\n",
       "75%        44.000000     47.000000\n",
       "max      1170.000000    982.000000"
      ]
     },
     "execution_count": 22,
     "metadata": {},
     "output_type": "execute_result"
    }
   ],
   "source": [
    "# Run some descriptive stats for positive and negative words\n",
    "pos_desribe = pd.Series(pos_words, name='pos_reviews').describe()\n",
    "neg_desribe = pd.Series(neg_words, name='neg_reviews').describe()\n",
    "\n",
    "pd.concat([pos_desribe, neg_desribe], axis=1)"
   ]
  },
  {
   "cell_type": "code",
   "execution_count": 23,
   "metadata": {},
   "outputs": [
    {
     "data": {
      "text/plain": [
       "array(['bought sever vital can dog food product found good qualiti product look stew process meat smell better labrador finicki appreci product better',\n",
       "       'product arriv label jumbo salt peanutsth peanut actual small size unsalt sure error vendor intend repres product jumbo',\n",
       "       'confect around centuri light pillowi citrus gelatin nut case filbert cut tini squar liber coat powder sugar tini mouth heaven chewi flavor high recommend yummi treat familiar stori cs lewi lion witch wardrob treat seduc edmund sell brother sister witch',\n",
       "       ...,\n",
       "       'im disappoint flavor chocol note especi weak milk thicken flavor still disappoint worth tri ill never buy will use what left will gone time thank small can',\n",
       "       'best treat train reward dog good groom lower calori love doggi sweet potato seem favorit wet nose treat',\n",
       "       'satisfi product advertis use cereal raw vinegar general sweetner'],\n",
       "      dtype=object)"
      ]
     },
     "execution_count": 23,
     "metadata": {},
     "output_type": "execute_result"
    }
   ],
   "source": [
    "# Assign text to array\n",
    "text = df_reviews['Text'].values\n",
    "\n",
    "text"
   ]
  },
  {
   "cell_type": "markdown",
   "metadata": {},
   "source": [
    "## Tokenization"
   ]
  },
  {
   "cell_type": "code",
   "execution_count": 24,
   "metadata": {},
   "outputs": [
    {
     "name": "stdout",
     "output_type": "stream",
     "text": [
      "Vocabulary size: 207657\n"
     ]
    }
   ],
   "source": [
    "# Get vocab size for embedding layers later on\n",
    "\n",
    "tokens = []\n",
    "\n",
    "for sentence in text:\n",
    "    \n",
    "    tokens.extend(sentence.split())\n",
    "    \n",
    "word_count = {}\n",
    "\n",
    "for token in tokens:\n",
    "    \n",
    "    if token in word_count:\n",
    "    \n",
    "        word_count[token] += 1\n",
    "    \n",
    "    else:\n",
    "    \n",
    "        word_count[token] = 1\n",
    "        \n",
    "vocab_size = len(word_count)\n",
    "\n",
    "print(\"Vocabulary size:\", vocab_size)"
   ]
  },
  {
   "cell_type": "code",
   "execution_count": 25,
   "metadata": {},
   "outputs": [],
   "source": [
    "# Initiate tokenization (convert words into numerical values)\n",
    "tokenizer = Tokenizer(num_words=5000)\n",
    "\n",
    "tokenizer.fit_on_texts(text)\n",
    "\n",
    "sequences = tokenizer.texts_to_sequences(text)"
   ]
  },
  {
   "cell_type": "code",
   "execution_count": 26,
   "metadata": {},
   "outputs": [
    {
     "data": {
      "text/plain": [
       "array([[  60,  191, 3074, ...,    0,    0,    0],\n",
       "       [   7,  173,  450, ...,    0,    0,    0],\n",
       "       [3710,  195, 3980, ...,    0,    0,    0],\n",
       "       ...,\n",
       "       [  34,  197,    3, ...,    0,    0,    0],\n",
       "       [  25,   58,  822, ...,    0,    0,    0],\n",
       "       [ 295,    7,  879, ...,    0,    0,    0]], dtype=int32)"
      ]
     },
     "execution_count": 26,
     "metadata": {},
     "output_type": "execute_result"
    }
   ],
   "source": [
    "# Pad the sequences\n",
    "padded_sequences = pad_sequences(sequences, padding='post', truncating='post')\n",
    "\n",
    "padded_sequences"
   ]
  },
  {
   "cell_type": "code",
   "execution_count": 27,
   "metadata": {},
   "outputs": [
    {
     "data": {
      "text/plain": [
       "(325642, 1026)"
      ]
     },
     "execution_count": 27,
     "metadata": {},
     "output_type": "execute_result"
    }
   ],
   "source": [
    "padded_sequences.shape"
   ]
  },
  {
   "cell_type": "code",
   "execution_count": 28,
   "metadata": {},
   "outputs": [
    {
     "name": "stdout",
     "output_type": "stream",
     "text": [
      "Training data shape: (195384, 1026)\n",
      "Validation data shape: (65129, 1026)\n",
      "Test data shape: (65129, 1026)\n"
     ]
    }
   ],
   "source": [
    "# Splitting data into training, validation, and test datasets\n",
    "labels = np.asarray(df_reviews['Score'])\n",
    "\n",
    "# Parameters\n",
    "TEST_SIZE = 0.2  # 20% of data will be used for testing\n",
    "VALIDATION_SIZE = 0.25  # 25% of remaining data will be used for validation (20% of 80% is 20%)\n",
    "\n",
    "# Split data into training + validation and test sets\n",
    "X_train_val, X_test, y_train_val, y_test = train_test_split(padded_sequences, labels, test_size=TEST_SIZE, random_state=42)\n",
    "\n",
    "# Further split training + validation set into training and validation sets\n",
    "X_train, X_val, y_train, y_val = train_test_split(X_train_val, y_train_val, test_size=VALIDATION_SIZE, random_state=42)\n",
    "\n",
    "print(f'Training data shape: {X_train.shape}')\n",
    "print(f'Validation data shape: {X_val.shape}')\n",
    "print(f'Test data shape: {X_test.shape}')"
   ]
  },
  {
   "cell_type": "markdown",
   "metadata": {},
   "source": [
    "## Model Building"
   ]
  },
  {
   "cell_type": "code",
   "execution_count": 29,
   "metadata": {},
   "outputs": [],
   "source": [
    "from keras.models import Sequential\n",
    "from keras.layers import Embedding, Conv1D, GlobalMaxPooling1D, Dense, Dropout\n",
    "from keras.optimizers import Adam\n",
    "from keras.callbacks import EarlyStopping\n",
    "\n",
    "import numpy as np\n",
    "from sklearn.metrics import confusion_matrix, classification_report, ConfusionMatrixDisplay, accuracy_score\n",
    "import seaborn as sns\n",
    "import matplotlib.pyplot as plt\n",
    "\n",
    "from sklearn.preprocessing import LabelEncoder\n",
    "from sklearn.linear_model import LogisticRegression\n",
    "from sklearn.tree import DecisionTreeClassifier"
   ]
  },
  {
   "cell_type": "markdown",
   "metadata": {},
   "source": [
    "## Baseline Models"
   ]
  },
  {
   "cell_type": "code",
   "execution_count": 30,
   "metadata": {},
   "outputs": [],
   "source": [
    "from sklearn.ensemble import RandomForestClassifier\n",
    "\n",
    "# Initialize the model\n",
    "rf_model = RandomForestClassifier(n_estimators=100, random_state=42)\n",
    "\n",
    "# Train the model\n",
    "rf_model.fit(X_train, y_train)\n",
    "\n",
    "# Predict the sentiments for the test set\n",
    "y_pred = rf_model.predict(X_val)"
   ]
  },
  {
   "cell_type": "code",
   "execution_count": 31,
   "metadata": {},
   "outputs": [
    {
     "name": "stdout",
     "output_type": "stream",
     "text": [
      "Validation Accuracy: 0.87\n",
      "              precision    recall  f1-score   support\n",
      "\n",
      "    negative       0.90      0.00      0.01      8471\n",
      "    positive       0.87      1.00      0.93     56658\n",
      "\n",
      "    accuracy                           0.87     65129\n",
      "   macro avg       0.89      0.50      0.47     65129\n",
      "weighted avg       0.87      0.87      0.81     65129\n",
      "\n"
     ]
    }
   ],
   "source": [
    "# Calculate accuracy\n",
    "accuracy = accuracy_score(y_val, y_pred)\n",
    "print(f'Validation Accuracy: {accuracy:.2f}')\n",
    "\n",
    "# Print classification report\n",
    "print(classification_report(y_val, y_pred, target_names=['negative', 'positive']))"
   ]
  },
  {
   "cell_type": "code",
   "execution_count": 32,
   "metadata": {},
   "outputs": [
    {
     "name": "stdout",
     "output_type": "stream",
     "text": [
      "Logistic Regression Accuracy: 0.87\n",
      "Logistic Regression Classification Report:\n",
      "              precision    recall  f1-score   support\n",
      "\n",
      "    negative       0.22      0.00      0.00      8471\n",
      "    positive       0.87      1.00      0.93     56658\n",
      "\n",
      "    accuracy                           0.87     65129\n",
      "   macro avg       0.54      0.50      0.47     65129\n",
      "weighted avg       0.78      0.87      0.81     65129\n",
      "\n"
     ]
    },
    {
     "name": "stderr",
     "output_type": "stream",
     "text": [
      "/Users/karanveer_lamba/anaconda3/lib/python3.11/site-packages/sklearn/linear_model/_logistic.py:469: ConvergenceWarning: lbfgs failed to converge (status=1):\n",
      "STOP: TOTAL NO. of ITERATIONS REACHED LIMIT.\n",
      "\n",
      "Increase the number of iterations (max_iter) or scale the data as shown in:\n",
      "    https://scikit-learn.org/stable/modules/preprocessing.html\n",
      "Please also refer to the documentation for alternative solver options:\n",
      "    https://scikit-learn.org/stable/modules/linear_model.html#logistic-regression\n",
      "  n_iter_i = _check_optimize_result(\n"
     ]
    }
   ],
   "source": [
    "# Logistic Regression Model\n",
    "log_reg_model = LogisticRegression(random_state=42)\n",
    "log_reg_model.fit(X_train, y_train)\n",
    "y_pred_log_reg = log_reg_model.predict(X_val)\n",
    "accuracy_log_reg = accuracy_score(y_val, y_pred_log_reg)\n",
    "print(f'Logistic Regression Accuracy: {accuracy_log_reg:.2f}')\n",
    "print(\"Logistic Regression Classification Report:\")\n",
    "print(classification_report(y_val, y_pred_log_reg, target_names=['negative', 'positive']))"
   ]
  },
  {
   "cell_type": "code",
   "execution_count": 33,
   "metadata": {},
   "outputs": [
    {
     "name": "stdout",
     "output_type": "stream",
     "text": [
      "Decision Tree Accuracy: 0.78\n",
      "Decision Tree Classification Report:\n",
      "              precision    recall  f1-score   support\n",
      "\n",
      "    negative       0.18      0.21      0.20      8471\n",
      "    positive       0.88      0.86      0.87     56658\n",
      "\n",
      "    accuracy                           0.78     65129\n",
      "   macro avg       0.53      0.54      0.53     65129\n",
      "weighted avg       0.79      0.78      0.78     65129\n",
      "\n"
     ]
    }
   ],
   "source": [
    "# Decision Tree Model\n",
    "dt_model = DecisionTreeClassifier(random_state=42)\n",
    "dt_model.fit(X_train, y_train)\n",
    "y_pred_dt = dt_model.predict(X_val)\n",
    "accuracy_dt = accuracy_score(y_val, y_pred_dt)\n",
    "print(f'Decision Tree Accuracy: {accuracy_dt:.2f}')\n",
    "print(\"Decision Tree Classification Report:\")\n",
    "print(classification_report(y_val, y_pred_dt, target_names=['negative', 'positive']))"
   ]
  },
  {
   "cell_type": "code",
   "execution_count": 34,
   "metadata": {},
   "outputs": [],
   "source": [
    "# Early Stopping\n",
    "early_stopping = EarlyStopping(monitor='val_loss', \n",
    "                               patience=3,  # Number of epochs with no improvement after which training will be stopped\n",
    "                               restore_best_weights=True)"
   ]
  },
  {
   "cell_type": "markdown",
   "metadata": {},
   "source": [
    "Trial 13 Complete [00h 38m 55s]\n",
    "val_accuracy: 0.9441185891628265\n",
    "\n",
    "Best val_accuracy So Far: 0.9564709961414337\n",
    "Total elapsed time: 20h 22m 52s\n",
    "\n",
    "\n",
    "Value             |Best Value So Far |Hyperparameter\n",
    "128               |128               |filters\n",
    "3                 |5                 |kernel_size\n",
    "192               |192               |units\n",
    "0.2               |0.3               |dropout\n",
    "0.00077456        |0.0003062         |learning_rate"
   ]
  },
  {
   "cell_type": "markdown",
   "metadata": {},
   "source": [
    "## Hyperparameter Tuning"
   ]
  },
  {
   "cell_type": "code",
   "execution_count": 43,
   "metadata": {},
   "outputs": [
    {
     "name": "stderr",
     "output_type": "stream",
     "text": [
      "[I 2024-08-05 08:28:32,290] A new study created in memory with name: no-name-ffb6b3a6-b3ac-4937-86a1-df63bb5e9202\n",
      "/var/folders/yf/wjmrp9xs1rn2rmmhttv8wjt80000gn/T/ipykernel_44091/390008084.py:13: FutureWarning: suggest_loguniform has been deprecated in v3.0.0. This feature will be removed in v6.0.0. See https://github.com/optuna/optuna/releases/tag/v3.0.0. Use suggest_float(..., log=True) instead.\n",
      "  learning_rate = trial.suggest_loguniform('learning_rate', 1e-5, 1e-2)\n",
      "[I 2024-08-05 08:55:10,335] Trial 0 finished with value: 0.9451550245285034 and parameters: {'embedding_dim': 127, 'conv_filters': 148, 'kernel_size': 5, 'dense_units': 196, 'dropout_rate': 0.2099949299833075, 'learning_rate': 0.00012645637086228025}. Best is trial 0 with value: 0.9451550245285034.\n",
      "/var/folders/yf/wjmrp9xs1rn2rmmhttv8wjt80000gn/T/ipykernel_44091/390008084.py:13: FutureWarning: suggest_loguniform has been deprecated in v3.0.0. This feature will be removed in v6.0.0. See https://github.com/optuna/optuna/releases/tag/v3.0.0. Use suggest_float(..., log=True) instead.\n",
      "  learning_rate = trial.suggest_loguniform('learning_rate', 1e-5, 1e-2)\n",
      "[I 2024-08-05 09:31:08,763] Trial 1 finished with value: 0.9523714184761047 and parameters: {'embedding_dim': 131, 'conv_filters': 210, 'kernel_size': 7, 'dense_units': 107, 'dropout_rate': 0.10731240794333702, 'learning_rate': 0.00237185568310367}. Best is trial 1 with value: 0.9523714184761047.\n",
      "/var/folders/yf/wjmrp9xs1rn2rmmhttv8wjt80000gn/T/ipykernel_44091/390008084.py:13: FutureWarning: suggest_loguniform has been deprecated in v3.0.0. This feature will be removed in v6.0.0. See https://github.com/optuna/optuna/releases/tag/v3.0.0. Use suggest_float(..., log=True) instead.\n",
      "  learning_rate = trial.suggest_loguniform('learning_rate', 1e-5, 1e-2)\n",
      "[I 2024-08-05 10:23:14,779] Trial 2 finished with value: 0.9526785016059875 and parameters: {'embedding_dim': 251, 'conv_filters': 206, 'kernel_size': 4, 'dense_units': 221, 'dropout_rate': 0.40844499472888657, 'learning_rate': 0.00021087055333928327}. Best is trial 2 with value: 0.9526785016059875.\n",
      "/var/folders/yf/wjmrp9xs1rn2rmmhttv8wjt80000gn/T/ipykernel_44091/390008084.py:13: FutureWarning: suggest_loguniform has been deprecated in v3.0.0. This feature will be removed in v6.0.0. See https://github.com/optuna/optuna/releases/tag/v3.0.0. Use suggest_float(..., log=True) instead.\n",
      "  learning_rate = trial.suggest_loguniform('learning_rate', 1e-5, 1e-2)\n",
      "[I 2024-08-05 12:14:32,549] Trial 3 finished with value: 0.9322421550750732 and parameters: {'embedding_dim': 180, 'conv_filters': 153, 'kernel_size': 7, 'dense_units': 142, 'dropout_rate': 0.3994882554893362, 'learning_rate': 5.945979022526819e-05}. Best is trial 2 with value: 0.9526785016059875.\n",
      "/var/folders/yf/wjmrp9xs1rn2rmmhttv8wjt80000gn/T/ipykernel_44091/390008084.py:13: FutureWarning: suggest_loguniform has been deprecated in v3.0.0. This feature will be removed in v6.0.0. See https://github.com/optuna/optuna/releases/tag/v3.0.0. Use suggest_float(..., log=True) instead.\n",
      "  learning_rate = trial.suggest_loguniform('learning_rate', 1e-5, 1e-2)\n",
      "[I 2024-08-05 12:52:04,728] Trial 4 finished with value: 0.9572387337684631 and parameters: {'embedding_dim': 181, 'conv_filters': 153, 'kernel_size': 5, 'dense_units': 81, 'dropout_rate': 0.49560145420777235, 'learning_rate': 0.0006008415758307714}. Best is trial 4 with value: 0.9572387337684631.\n",
      "/var/folders/yf/wjmrp9xs1rn2rmmhttv8wjt80000gn/T/ipykernel_44091/390008084.py:13: FutureWarning: suggest_loguniform has been deprecated in v3.0.0. This feature will be removed in v6.0.0. See https://github.com/optuna/optuna/releases/tag/v3.0.0. Use suggest_float(..., log=True) instead.\n",
      "  learning_rate = trial.suggest_loguniform('learning_rate', 1e-5, 1e-2)\n",
      "[I 2024-08-05 13:47:24,906] Trial 5 finished with value: 0.9579603672027588 and parameters: {'embedding_dim': 212, 'conv_filters': 225, 'kernel_size': 5, 'dense_units': 160, 'dropout_rate': 0.2532190218019172, 'learning_rate': 0.00023328075189033595}. Best is trial 5 with value: 0.9579603672027588.\n",
      "/var/folders/yf/wjmrp9xs1rn2rmmhttv8wjt80000gn/T/ipykernel_44091/390008084.py:13: FutureWarning: suggest_loguniform has been deprecated in v3.0.0. This feature will be removed in v6.0.0. See https://github.com/optuna/optuna/releases/tag/v3.0.0. Use suggest_float(..., log=True) instead.\n",
      "  learning_rate = trial.suggest_loguniform('learning_rate', 1e-5, 1e-2)\n",
      "[I 2024-08-05 14:35:14,293] Trial 6 finished with value: 0.8926284909248352 and parameters: {'embedding_dim': 149, 'conv_filters': 196, 'kernel_size': 7, 'dense_units': 147, 'dropout_rate': 0.44217717355416064, 'learning_rate': 1.015145035029937e-05}. Best is trial 5 with value: 0.9579603672027588.\n",
      "/var/folders/yf/wjmrp9xs1rn2rmmhttv8wjt80000gn/T/ipykernel_44091/390008084.py:13: FutureWarning: suggest_loguniform has been deprecated in v3.0.0. This feature will be removed in v6.0.0. See https://github.com/optuna/optuna/releases/tag/v3.0.0. Use suggest_float(..., log=True) instead.\n",
      "  learning_rate = trial.suggest_loguniform('learning_rate', 1e-5, 1e-2)\n",
      "[I 2024-08-05 14:52:27,646] Trial 7 finished with value: 0.9505442976951599 and parameters: {'embedding_dim': 94, 'conv_filters': 133, 'kernel_size': 4, 'dense_units': 147, 'dropout_rate': 0.1754758784464618, 'learning_rate': 0.00017580070915582018}. Best is trial 5 with value: 0.9579603672027588.\n",
      "/var/folders/yf/wjmrp9xs1rn2rmmhttv8wjt80000gn/T/ipykernel_44091/390008084.py:13: FutureWarning: suggest_loguniform has been deprecated in v3.0.0. This feature will be removed in v6.0.0. See https://github.com/optuna/optuna/releases/tag/v3.0.0. Use suggest_float(..., log=True) instead.\n",
      "  learning_rate = trial.suggest_loguniform('learning_rate', 1e-5, 1e-2)\n",
      "[I 2024-08-05 15:20:59,949] Trial 8 finished with value: 0.8919682502746582 and parameters: {'embedding_dim': 255, 'conv_filters': 51, 'kernel_size': 5, 'dense_units': 143, 'dropout_rate': 0.3995444847627309, 'learning_rate': 1.2336147794605642e-05}. Best is trial 5 with value: 0.9579603672027588.\n",
      "/var/folders/yf/wjmrp9xs1rn2rmmhttv8wjt80000gn/T/ipykernel_44091/390008084.py:13: FutureWarning: suggest_loguniform has been deprecated in v3.0.0. This feature will be removed in v6.0.0. See https://github.com/optuna/optuna/releases/tag/v3.0.0. Use suggest_float(..., log=True) instead.\n",
      "  learning_rate = trial.suggest_loguniform('learning_rate', 1e-5, 1e-2)\n",
      "[I 2024-08-05 15:40:58,970] Trial 9 finished with value: 0.947058916091919 and parameters: {'embedding_dim': 234, 'conv_filters': 47, 'kernel_size': 3, 'dense_units': 42, 'dropout_rate': 0.26378548171788746, 'learning_rate': 0.0009452911051066132}. Best is trial 5 with value: 0.9579603672027588.\n"
     ]
    },
    {
     "name": "stdout",
     "output_type": "stream",
     "text": [
      "Best hyperparameters:  {'embedding_dim': 212, 'conv_filters': 225, 'kernel_size': 5, 'dense_units': 160, 'dropout_rate': 0.2532190218019172, 'learning_rate': 0.00023328075189033595}\n"
     ]
    }
   ],
   "source": [
    "import optuna\n",
    "from sklearn.utils.class_weight import compute_class_weight\n",
    "\n",
    "def objective(trial):\n",
    "    VOCAB_SIZE = vocab_size  # You can adjust this based on your dataset\n",
    "\n",
    "    # Suggest hyperparameters\n",
    "    embedding_dim = trial.suggest_int('embedding_dim', 50, 300)\n",
    "    conv_filters = trial.suggest_int('conv_filters', 32, 256)\n",
    "    kernel_size = trial.suggest_int('kernel_size', 3, 7)\n",
    "    dense_units = trial.suggest_int('dense_units', 32, 256)\n",
    "    dropout_rate = trial.suggest_float('dropout_rate', 0.1, 0.5)\n",
    "    learning_rate = trial.suggest_loguniform('learning_rate', 1e-5, 1e-2)\n",
    "\n",
    "    # Model Architecture\n",
    "    model = Sequential()\n",
    "    model.add(Embedding(input_dim=VOCAB_SIZE, output_dim=embedding_dim))\n",
    "    model.add(Conv1D(filters=conv_filters, kernel_size=kernel_size, activation='relu'))\n",
    "    model.add(GlobalMaxPooling1D())\n",
    "    model.add(Dense(dense_units, activation='relu'))\n",
    "    model.add(Dropout(dropout_rate))\n",
    "    model.add(Dense(1, activation='sigmoid'))\n",
    "\n",
    "    # Compile the model\n",
    "    model.compile(optimizer=Adam(learning_rate=learning_rate), loss='binary_crossentropy', metrics=['accuracy'])\n",
    "\n",
    "    # Calculate class weights\n",
    "    class_weights = compute_class_weight('balanced', classes=np.unique(y_train), y=y_train)\n",
    "    class_weights = dict(enumerate(class_weights))\n",
    "\n",
    "    # Early stopping callback\n",
    "    early_stopping = EarlyStopping(monitor='val_loss', patience=3, restore_best_weights=True)\n",
    "\n",
    "    # Train the model\n",
    "    history = model.fit(X_train, y_train, \n",
    "                        epochs=5, \n",
    "                        batch_size=128, \n",
    "                        validation_data=(X_val, y_val), \n",
    "                        class_weight=class_weights,\n",
    "                        callbacks=[early_stopping],\n",
    "                        verbose=0)\n",
    "\n",
    "    # Get the best validation accuracy of the epoch\n",
    "    val_accuracy = max(history.history['val_accuracy'])\n",
    "    return val_accuracy\n",
    "\n",
    "# Create a study and optimize the objective function\n",
    "study = optuna.create_study(direction='maximize')\n",
    "study.optimize(objective, n_trials=10)\n",
    "\n",
    "# Print the best hyperparameters\n",
    "print('Best hyperparameters: ', study.best_params)\n"
   ]
  },
  {
   "cell_type": "code",
   "execution_count": 51,
   "metadata": {},
   "outputs": [],
   "source": [
    "# Save the study to a pickle file\n",
    "with open('optuna_study.pkl', 'wb') as f:\n",
    "    pkl.dump(study, f)"
   ]
  },
  {
   "cell_type": "code",
   "execution_count": 47,
   "metadata": {},
   "outputs": [
    {
     "data": {
      "text/plain": [
       "FrozenTrial(number=5, state=1, values=[0.9579603672027588], datetime_start=datetime.datetime(2024, 8, 5, 12, 52, 4, 728702), datetime_complete=datetime.datetime(2024, 8, 5, 13, 47, 24, 906534), params={'embedding_dim': 212, 'conv_filters': 225, 'kernel_size': 5, 'dense_units': 160, 'dropout_rate': 0.2532190218019172, 'learning_rate': 0.00023328075189033595}, user_attrs={}, system_attrs={}, intermediate_values={}, distributions={'embedding_dim': IntDistribution(high=300, log=False, low=50, step=1), 'conv_filters': IntDistribution(high=256, log=False, low=32, step=1), 'kernel_size': IntDistribution(high=7, log=False, low=3, step=1), 'dense_units': IntDistribution(high=256, log=False, low=32, step=1), 'dropout_rate': FloatDistribution(high=0.5, log=False, low=0.1, step=None), 'learning_rate': FloatDistribution(high=0.01, log=True, low=1e-05, step=None)}, trial_id=5, value=None)"
      ]
     },
     "execution_count": 47,
     "metadata": {},
     "output_type": "execute_result"
    }
   ],
   "source": [
    "study.best_trial"
   ]
  },
  {
   "cell_type": "code",
   "execution_count": 46,
   "metadata": {},
   "outputs": [
    {
     "data": {
      "text/html": [
       "<div>\n",
       "<style scoped>\n",
       "    .dataframe tbody tr th:only-of-type {\n",
       "        vertical-align: middle;\n",
       "    }\n",
       "\n",
       "    .dataframe tbody tr th {\n",
       "        vertical-align: top;\n",
       "    }\n",
       "\n",
       "    .dataframe thead th {\n",
       "        text-align: right;\n",
       "    }\n",
       "</style>\n",
       "<table border=\"1\" class=\"dataframe\">\n",
       "  <thead>\n",
       "    <tr style=\"text-align: right;\">\n",
       "      <th></th>\n",
       "      <th>number</th>\n",
       "      <th>value</th>\n",
       "      <th>datetime_start</th>\n",
       "      <th>datetime_complete</th>\n",
       "      <th>duration</th>\n",
       "      <th>params_conv_filters</th>\n",
       "      <th>params_dense_units</th>\n",
       "      <th>params_dropout_rate</th>\n",
       "      <th>params_embedding_dim</th>\n",
       "      <th>params_kernel_size</th>\n",
       "      <th>params_learning_rate</th>\n",
       "      <th>state</th>\n",
       "    </tr>\n",
       "  </thead>\n",
       "  <tbody>\n",
       "    <tr>\n",
       "      <th>0</th>\n",
       "      <td>0</td>\n",
       "      <td>0.945155</td>\n",
       "      <td>2024-08-05 08:28:32.291933</td>\n",
       "      <td>2024-08-05 08:55:10.335677</td>\n",
       "      <td>0 days 00:26:38.043744</td>\n",
       "      <td>148</td>\n",
       "      <td>196</td>\n",
       "      <td>0.209995</td>\n",
       "      <td>127</td>\n",
       "      <td>5</td>\n",
       "      <td>0.000126</td>\n",
       "      <td>COMPLETE</td>\n",
       "    </tr>\n",
       "    <tr>\n",
       "      <th>1</th>\n",
       "      <td>1</td>\n",
       "      <td>0.952371</td>\n",
       "      <td>2024-08-05 08:55:10.336185</td>\n",
       "      <td>2024-08-05 09:31:08.762938</td>\n",
       "      <td>0 days 00:35:58.426753</td>\n",
       "      <td>210</td>\n",
       "      <td>107</td>\n",
       "      <td>0.107312</td>\n",
       "      <td>131</td>\n",
       "      <td>7</td>\n",
       "      <td>0.002372</td>\n",
       "      <td>COMPLETE</td>\n",
       "    </tr>\n",
       "    <tr>\n",
       "      <th>2</th>\n",
       "      <td>2</td>\n",
       "      <td>0.952679</td>\n",
       "      <td>2024-08-05 09:31:08.763451</td>\n",
       "      <td>2024-08-05 10:23:14.779460</td>\n",
       "      <td>0 days 00:52:06.016009</td>\n",
       "      <td>206</td>\n",
       "      <td>221</td>\n",
       "      <td>0.408445</td>\n",
       "      <td>251</td>\n",
       "      <td>4</td>\n",
       "      <td>0.000211</td>\n",
       "      <td>COMPLETE</td>\n",
       "    </tr>\n",
       "    <tr>\n",
       "      <th>3</th>\n",
       "      <td>3</td>\n",
       "      <td>0.932242</td>\n",
       "      <td>2024-08-05 10:23:14.780096</td>\n",
       "      <td>2024-08-05 12:14:32.547840</td>\n",
       "      <td>0 days 01:51:17.767744</td>\n",
       "      <td>153</td>\n",
       "      <td>142</td>\n",
       "      <td>0.399488</td>\n",
       "      <td>180</td>\n",
       "      <td>7</td>\n",
       "      <td>0.000059</td>\n",
       "      <td>COMPLETE</td>\n",
       "    </tr>\n",
       "    <tr>\n",
       "      <th>4</th>\n",
       "      <td>4</td>\n",
       "      <td>0.957239</td>\n",
       "      <td>2024-08-05 12:14:32.556185</td>\n",
       "      <td>2024-08-05 12:52:04.728213</td>\n",
       "      <td>0 days 00:37:32.172028</td>\n",
       "      <td>153</td>\n",
       "      <td>81</td>\n",
       "      <td>0.495601</td>\n",
       "      <td>181</td>\n",
       "      <td>5</td>\n",
       "      <td>0.000601</td>\n",
       "      <td>COMPLETE</td>\n",
       "    </tr>\n",
       "    <tr>\n",
       "      <th>5</th>\n",
       "      <td>5</td>\n",
       "      <td>0.957960</td>\n",
       "      <td>2024-08-05 12:52:04.728702</td>\n",
       "      <td>2024-08-05 13:47:24.906534</td>\n",
       "      <td>0 days 00:55:20.177832</td>\n",
       "      <td>225</td>\n",
       "      <td>160</td>\n",
       "      <td>0.253219</td>\n",
       "      <td>212</td>\n",
       "      <td>5</td>\n",
       "      <td>0.000233</td>\n",
       "      <td>COMPLETE</td>\n",
       "    </tr>\n",
       "    <tr>\n",
       "      <th>6</th>\n",
       "      <td>6</td>\n",
       "      <td>0.892628</td>\n",
       "      <td>2024-08-05 13:47:24.906975</td>\n",
       "      <td>2024-08-05 14:35:14.293467</td>\n",
       "      <td>0 days 00:47:49.386492</td>\n",
       "      <td>196</td>\n",
       "      <td>147</td>\n",
       "      <td>0.442177</td>\n",
       "      <td>149</td>\n",
       "      <td>7</td>\n",
       "      <td>0.000010</td>\n",
       "      <td>COMPLETE</td>\n",
       "    </tr>\n",
       "    <tr>\n",
       "      <th>7</th>\n",
       "      <td>7</td>\n",
       "      <td>0.950544</td>\n",
       "      <td>2024-08-05 14:35:14.293938</td>\n",
       "      <td>2024-08-05 14:52:27.646223</td>\n",
       "      <td>0 days 00:17:13.352285</td>\n",
       "      <td>133</td>\n",
       "      <td>147</td>\n",
       "      <td>0.175476</td>\n",
       "      <td>94</td>\n",
       "      <td>4</td>\n",
       "      <td>0.000176</td>\n",
       "      <td>COMPLETE</td>\n",
       "    </tr>\n",
       "    <tr>\n",
       "      <th>8</th>\n",
       "      <td>8</td>\n",
       "      <td>0.891968</td>\n",
       "      <td>2024-08-05 14:52:27.646708</td>\n",
       "      <td>2024-08-05 15:20:59.949061</td>\n",
       "      <td>0 days 00:28:32.302353</td>\n",
       "      <td>51</td>\n",
       "      <td>143</td>\n",
       "      <td>0.399544</td>\n",
       "      <td>255</td>\n",
       "      <td>5</td>\n",
       "      <td>0.000012</td>\n",
       "      <td>COMPLETE</td>\n",
       "    </tr>\n",
       "    <tr>\n",
       "      <th>9</th>\n",
       "      <td>9</td>\n",
       "      <td>0.947059</td>\n",
       "      <td>2024-08-05 15:20:59.949560</td>\n",
       "      <td>2024-08-05 15:40:58.970607</td>\n",
       "      <td>0 days 00:19:59.021047</td>\n",
       "      <td>47</td>\n",
       "      <td>42</td>\n",
       "      <td>0.263785</td>\n",
       "      <td>234</td>\n",
       "      <td>3</td>\n",
       "      <td>0.000945</td>\n",
       "      <td>COMPLETE</td>\n",
       "    </tr>\n",
       "  </tbody>\n",
       "</table>\n",
       "</div>"
      ],
      "text/plain": [
       "   number     value             datetime_start          datetime_complete  \\\n",
       "0       0  0.945155 2024-08-05 08:28:32.291933 2024-08-05 08:55:10.335677   \n",
       "1       1  0.952371 2024-08-05 08:55:10.336185 2024-08-05 09:31:08.762938   \n",
       "2       2  0.952679 2024-08-05 09:31:08.763451 2024-08-05 10:23:14.779460   \n",
       "3       3  0.932242 2024-08-05 10:23:14.780096 2024-08-05 12:14:32.547840   \n",
       "4       4  0.957239 2024-08-05 12:14:32.556185 2024-08-05 12:52:04.728213   \n",
       "5       5  0.957960 2024-08-05 12:52:04.728702 2024-08-05 13:47:24.906534   \n",
       "6       6  0.892628 2024-08-05 13:47:24.906975 2024-08-05 14:35:14.293467   \n",
       "7       7  0.950544 2024-08-05 14:35:14.293938 2024-08-05 14:52:27.646223   \n",
       "8       8  0.891968 2024-08-05 14:52:27.646708 2024-08-05 15:20:59.949061   \n",
       "9       9  0.947059 2024-08-05 15:20:59.949560 2024-08-05 15:40:58.970607   \n",
       "\n",
       "                duration  params_conv_filters  params_dense_units  \\\n",
       "0 0 days 00:26:38.043744                  148                 196   \n",
       "1 0 days 00:35:58.426753                  210                 107   \n",
       "2 0 days 00:52:06.016009                  206                 221   \n",
       "3 0 days 01:51:17.767744                  153                 142   \n",
       "4 0 days 00:37:32.172028                  153                  81   \n",
       "5 0 days 00:55:20.177832                  225                 160   \n",
       "6 0 days 00:47:49.386492                  196                 147   \n",
       "7 0 days 00:17:13.352285                  133                 147   \n",
       "8 0 days 00:28:32.302353                   51                 143   \n",
       "9 0 days 00:19:59.021047                   47                  42   \n",
       "\n",
       "   params_dropout_rate  params_embedding_dim  params_kernel_size  \\\n",
       "0             0.209995                   127                   5   \n",
       "1             0.107312                   131                   7   \n",
       "2             0.408445                   251                   4   \n",
       "3             0.399488                   180                   7   \n",
       "4             0.495601                   181                   5   \n",
       "5             0.253219                   212                   5   \n",
       "6             0.442177                   149                   7   \n",
       "7             0.175476                    94                   4   \n",
       "8             0.399544                   255                   5   \n",
       "9             0.263785                   234                   3   \n",
       "\n",
       "   params_learning_rate     state  \n",
       "0              0.000126  COMPLETE  \n",
       "1              0.002372  COMPLETE  \n",
       "2              0.000211  COMPLETE  \n",
       "3              0.000059  COMPLETE  \n",
       "4              0.000601  COMPLETE  \n",
       "5              0.000233  COMPLETE  \n",
       "6              0.000010  COMPLETE  \n",
       "7              0.000176  COMPLETE  \n",
       "8              0.000012  COMPLETE  \n",
       "9              0.000945  COMPLETE  "
      ]
     },
     "execution_count": 46,
     "metadata": {},
     "output_type": "execute_result"
    }
   ],
   "source": [
    "study.trials_dataframe()"
   ]
  },
  {
   "cell_type": "code",
   "execution_count": 50,
   "metadata": {},
   "outputs": [
    {
     "data": {
      "application/vnd.plotly.v1+json": {
       "config": {
        "plotlyServerURL": "https://plot.ly"
       },
       "data": [
        {
         "mode": "markers",
         "name": "Objective Value",
         "type": "scatter",
         "x": [
          0,
          1,
          2,
          3,
          4,
          5,
          6,
          7,
          8,
          9
         ],
         "y": [
          0.9451550245285034,
          0.9523714184761047,
          0.9526785016059875,
          0.9322421550750732,
          0.9572387337684631,
          0.9579603672027588,
          0.8926284909248352,
          0.9505442976951599,
          0.8919682502746582,
          0.947058916091919
         ]
        },
        {
         "mode": "lines",
         "name": "Best Value",
         "type": "scatter",
         "x": [
          0,
          1,
          2,
          3,
          4,
          5,
          6,
          7,
          8,
          9
         ],
         "y": [
          0.9451550245285034,
          0.9523714184761047,
          0.9526785016059875,
          0.9526785016059875,
          0.9572387337684631,
          0.9579603672027588,
          0.9579603672027588,
          0.9579603672027588,
          0.9579603672027588,
          0.9579603672027588
         ]
        },
        {
         "marker": {
          "color": "#cccccc"
         },
         "mode": "markers",
         "name": "Infeasible Trial",
         "showlegend": false,
         "type": "scatter",
         "x": [],
         "y": []
        }
       ],
       "layout": {
        "template": {
         "data": {
          "bar": [
           {
            "error_x": {
             "color": "#2a3f5f"
            },
            "error_y": {
             "color": "#2a3f5f"
            },
            "marker": {
             "line": {
              "color": "#E5ECF6",
              "width": 0.5
             },
             "pattern": {
              "fillmode": "overlay",
              "size": 10,
              "solidity": 0.2
             }
            },
            "type": "bar"
           }
          ],
          "barpolar": [
           {
            "marker": {
             "line": {
              "color": "#E5ECF6",
              "width": 0.5
             },
             "pattern": {
              "fillmode": "overlay",
              "size": 10,
              "solidity": 0.2
             }
            },
            "type": "barpolar"
           }
          ],
          "carpet": [
           {
            "aaxis": {
             "endlinecolor": "#2a3f5f",
             "gridcolor": "white",
             "linecolor": "white",
             "minorgridcolor": "white",
             "startlinecolor": "#2a3f5f"
            },
            "baxis": {
             "endlinecolor": "#2a3f5f",
             "gridcolor": "white",
             "linecolor": "white",
             "minorgridcolor": "white",
             "startlinecolor": "#2a3f5f"
            },
            "type": "carpet"
           }
          ],
          "choropleth": [
           {
            "colorbar": {
             "outlinewidth": 0,
             "ticks": ""
            },
            "type": "choropleth"
           }
          ],
          "contour": [
           {
            "colorbar": {
             "outlinewidth": 0,
             "ticks": ""
            },
            "colorscale": [
             [
              0,
              "#0d0887"
             ],
             [
              0.1111111111111111,
              "#46039f"
             ],
             [
              0.2222222222222222,
              "#7201a8"
             ],
             [
              0.3333333333333333,
              "#9c179e"
             ],
             [
              0.4444444444444444,
              "#bd3786"
             ],
             [
              0.5555555555555556,
              "#d8576b"
             ],
             [
              0.6666666666666666,
              "#ed7953"
             ],
             [
              0.7777777777777778,
              "#fb9f3a"
             ],
             [
              0.8888888888888888,
              "#fdca26"
             ],
             [
              1,
              "#f0f921"
             ]
            ],
            "type": "contour"
           }
          ],
          "contourcarpet": [
           {
            "colorbar": {
             "outlinewidth": 0,
             "ticks": ""
            },
            "type": "contourcarpet"
           }
          ],
          "heatmap": [
           {
            "colorbar": {
             "outlinewidth": 0,
             "ticks": ""
            },
            "colorscale": [
             [
              0,
              "#0d0887"
             ],
             [
              0.1111111111111111,
              "#46039f"
             ],
             [
              0.2222222222222222,
              "#7201a8"
             ],
             [
              0.3333333333333333,
              "#9c179e"
             ],
             [
              0.4444444444444444,
              "#bd3786"
             ],
             [
              0.5555555555555556,
              "#d8576b"
             ],
             [
              0.6666666666666666,
              "#ed7953"
             ],
             [
              0.7777777777777778,
              "#fb9f3a"
             ],
             [
              0.8888888888888888,
              "#fdca26"
             ],
             [
              1,
              "#f0f921"
             ]
            ],
            "type": "heatmap"
           }
          ],
          "heatmapgl": [
           {
            "colorbar": {
             "outlinewidth": 0,
             "ticks": ""
            },
            "colorscale": [
             [
              0,
              "#0d0887"
             ],
             [
              0.1111111111111111,
              "#46039f"
             ],
             [
              0.2222222222222222,
              "#7201a8"
             ],
             [
              0.3333333333333333,
              "#9c179e"
             ],
             [
              0.4444444444444444,
              "#bd3786"
             ],
             [
              0.5555555555555556,
              "#d8576b"
             ],
             [
              0.6666666666666666,
              "#ed7953"
             ],
             [
              0.7777777777777778,
              "#fb9f3a"
             ],
             [
              0.8888888888888888,
              "#fdca26"
             ],
             [
              1,
              "#f0f921"
             ]
            ],
            "type": "heatmapgl"
           }
          ],
          "histogram": [
           {
            "marker": {
             "pattern": {
              "fillmode": "overlay",
              "size": 10,
              "solidity": 0.2
             }
            },
            "type": "histogram"
           }
          ],
          "histogram2d": [
           {
            "colorbar": {
             "outlinewidth": 0,
             "ticks": ""
            },
            "colorscale": [
             [
              0,
              "#0d0887"
             ],
             [
              0.1111111111111111,
              "#46039f"
             ],
             [
              0.2222222222222222,
              "#7201a8"
             ],
             [
              0.3333333333333333,
              "#9c179e"
             ],
             [
              0.4444444444444444,
              "#bd3786"
             ],
             [
              0.5555555555555556,
              "#d8576b"
             ],
             [
              0.6666666666666666,
              "#ed7953"
             ],
             [
              0.7777777777777778,
              "#fb9f3a"
             ],
             [
              0.8888888888888888,
              "#fdca26"
             ],
             [
              1,
              "#f0f921"
             ]
            ],
            "type": "histogram2d"
           }
          ],
          "histogram2dcontour": [
           {
            "colorbar": {
             "outlinewidth": 0,
             "ticks": ""
            },
            "colorscale": [
             [
              0,
              "#0d0887"
             ],
             [
              0.1111111111111111,
              "#46039f"
             ],
             [
              0.2222222222222222,
              "#7201a8"
             ],
             [
              0.3333333333333333,
              "#9c179e"
             ],
             [
              0.4444444444444444,
              "#bd3786"
             ],
             [
              0.5555555555555556,
              "#d8576b"
             ],
             [
              0.6666666666666666,
              "#ed7953"
             ],
             [
              0.7777777777777778,
              "#fb9f3a"
             ],
             [
              0.8888888888888888,
              "#fdca26"
             ],
             [
              1,
              "#f0f921"
             ]
            ],
            "type": "histogram2dcontour"
           }
          ],
          "mesh3d": [
           {
            "colorbar": {
             "outlinewidth": 0,
             "ticks": ""
            },
            "type": "mesh3d"
           }
          ],
          "parcoords": [
           {
            "line": {
             "colorbar": {
              "outlinewidth": 0,
              "ticks": ""
             }
            },
            "type": "parcoords"
           }
          ],
          "pie": [
           {
            "automargin": true,
            "type": "pie"
           }
          ],
          "scatter": [
           {
            "fillpattern": {
             "fillmode": "overlay",
             "size": 10,
             "solidity": 0.2
            },
            "type": "scatter"
           }
          ],
          "scatter3d": [
           {
            "line": {
             "colorbar": {
              "outlinewidth": 0,
              "ticks": ""
             }
            },
            "marker": {
             "colorbar": {
              "outlinewidth": 0,
              "ticks": ""
             }
            },
            "type": "scatter3d"
           }
          ],
          "scattercarpet": [
           {
            "marker": {
             "colorbar": {
              "outlinewidth": 0,
              "ticks": ""
             }
            },
            "type": "scattercarpet"
           }
          ],
          "scattergeo": [
           {
            "marker": {
             "colorbar": {
              "outlinewidth": 0,
              "ticks": ""
             }
            },
            "type": "scattergeo"
           }
          ],
          "scattergl": [
           {
            "marker": {
             "colorbar": {
              "outlinewidth": 0,
              "ticks": ""
             }
            },
            "type": "scattergl"
           }
          ],
          "scattermapbox": [
           {
            "marker": {
             "colorbar": {
              "outlinewidth": 0,
              "ticks": ""
             }
            },
            "type": "scattermapbox"
           }
          ],
          "scatterpolar": [
           {
            "marker": {
             "colorbar": {
              "outlinewidth": 0,
              "ticks": ""
             }
            },
            "type": "scatterpolar"
           }
          ],
          "scatterpolargl": [
           {
            "marker": {
             "colorbar": {
              "outlinewidth": 0,
              "ticks": ""
             }
            },
            "type": "scatterpolargl"
           }
          ],
          "scatterternary": [
           {
            "marker": {
             "colorbar": {
              "outlinewidth": 0,
              "ticks": ""
             }
            },
            "type": "scatterternary"
           }
          ],
          "surface": [
           {
            "colorbar": {
             "outlinewidth": 0,
             "ticks": ""
            },
            "colorscale": [
             [
              0,
              "#0d0887"
             ],
             [
              0.1111111111111111,
              "#46039f"
             ],
             [
              0.2222222222222222,
              "#7201a8"
             ],
             [
              0.3333333333333333,
              "#9c179e"
             ],
             [
              0.4444444444444444,
              "#bd3786"
             ],
             [
              0.5555555555555556,
              "#d8576b"
             ],
             [
              0.6666666666666666,
              "#ed7953"
             ],
             [
              0.7777777777777778,
              "#fb9f3a"
             ],
             [
              0.8888888888888888,
              "#fdca26"
             ],
             [
              1,
              "#f0f921"
             ]
            ],
            "type": "surface"
           }
          ],
          "table": [
           {
            "cells": {
             "fill": {
              "color": "#EBF0F8"
             },
             "line": {
              "color": "white"
             }
            },
            "header": {
             "fill": {
              "color": "#C8D4E3"
             },
             "line": {
              "color": "white"
             }
            },
            "type": "table"
           }
          ]
         },
         "layout": {
          "annotationdefaults": {
           "arrowcolor": "#2a3f5f",
           "arrowhead": 0,
           "arrowwidth": 1
          },
          "autotypenumbers": "strict",
          "coloraxis": {
           "colorbar": {
            "outlinewidth": 0,
            "ticks": ""
           }
          },
          "colorscale": {
           "diverging": [
            [
             0,
             "#8e0152"
            ],
            [
             0.1,
             "#c51b7d"
            ],
            [
             0.2,
             "#de77ae"
            ],
            [
             0.3,
             "#f1b6da"
            ],
            [
             0.4,
             "#fde0ef"
            ],
            [
             0.5,
             "#f7f7f7"
            ],
            [
             0.6,
             "#e6f5d0"
            ],
            [
             0.7,
             "#b8e186"
            ],
            [
             0.8,
             "#7fbc41"
            ],
            [
             0.9,
             "#4d9221"
            ],
            [
             1,
             "#276419"
            ]
           ],
           "sequential": [
            [
             0,
             "#0d0887"
            ],
            [
             0.1111111111111111,
             "#46039f"
            ],
            [
             0.2222222222222222,
             "#7201a8"
            ],
            [
             0.3333333333333333,
             "#9c179e"
            ],
            [
             0.4444444444444444,
             "#bd3786"
            ],
            [
             0.5555555555555556,
             "#d8576b"
            ],
            [
             0.6666666666666666,
             "#ed7953"
            ],
            [
             0.7777777777777778,
             "#fb9f3a"
            ],
            [
             0.8888888888888888,
             "#fdca26"
            ],
            [
             1,
             "#f0f921"
            ]
           ],
           "sequentialminus": [
            [
             0,
             "#0d0887"
            ],
            [
             0.1111111111111111,
             "#46039f"
            ],
            [
             0.2222222222222222,
             "#7201a8"
            ],
            [
             0.3333333333333333,
             "#9c179e"
            ],
            [
             0.4444444444444444,
             "#bd3786"
            ],
            [
             0.5555555555555556,
             "#d8576b"
            ],
            [
             0.6666666666666666,
             "#ed7953"
            ],
            [
             0.7777777777777778,
             "#fb9f3a"
            ],
            [
             0.8888888888888888,
             "#fdca26"
            ],
            [
             1,
             "#f0f921"
            ]
           ]
          },
          "colorway": [
           "#636efa",
           "#EF553B",
           "#00cc96",
           "#ab63fa",
           "#FFA15A",
           "#19d3f3",
           "#FF6692",
           "#B6E880",
           "#FF97FF",
           "#FECB52"
          ],
          "font": {
           "color": "#2a3f5f"
          },
          "geo": {
           "bgcolor": "white",
           "lakecolor": "white",
           "landcolor": "#E5ECF6",
           "showlakes": true,
           "showland": true,
           "subunitcolor": "white"
          },
          "hoverlabel": {
           "align": "left"
          },
          "hovermode": "closest",
          "mapbox": {
           "style": "light"
          },
          "paper_bgcolor": "white",
          "plot_bgcolor": "#E5ECF6",
          "polar": {
           "angularaxis": {
            "gridcolor": "white",
            "linecolor": "white",
            "ticks": ""
           },
           "bgcolor": "#E5ECF6",
           "radialaxis": {
            "gridcolor": "white",
            "linecolor": "white",
            "ticks": ""
           }
          },
          "scene": {
           "xaxis": {
            "backgroundcolor": "#E5ECF6",
            "gridcolor": "white",
            "gridwidth": 2,
            "linecolor": "white",
            "showbackground": true,
            "ticks": "",
            "zerolinecolor": "white"
           },
           "yaxis": {
            "backgroundcolor": "#E5ECF6",
            "gridcolor": "white",
            "gridwidth": 2,
            "linecolor": "white",
            "showbackground": true,
            "ticks": "",
            "zerolinecolor": "white"
           },
           "zaxis": {
            "backgroundcolor": "#E5ECF6",
            "gridcolor": "white",
            "gridwidth": 2,
            "linecolor": "white",
            "showbackground": true,
            "ticks": "",
            "zerolinecolor": "white"
           }
          },
          "shapedefaults": {
           "line": {
            "color": "#2a3f5f"
           }
          },
          "ternary": {
           "aaxis": {
            "gridcolor": "white",
            "linecolor": "white",
            "ticks": ""
           },
           "baxis": {
            "gridcolor": "white",
            "linecolor": "white",
            "ticks": ""
           },
           "bgcolor": "#E5ECF6",
           "caxis": {
            "gridcolor": "white",
            "linecolor": "white",
            "ticks": ""
           }
          },
          "title": {
           "x": 0.05
          },
          "xaxis": {
           "automargin": true,
           "gridcolor": "white",
           "linecolor": "white",
           "ticks": "",
           "title": {
            "standoff": 15
           },
           "zerolinecolor": "white",
           "zerolinewidth": 2
          },
          "yaxis": {
           "automargin": true,
           "gridcolor": "white",
           "linecolor": "white",
           "ticks": "",
           "title": {
            "standoff": 15
           },
           "zerolinecolor": "white",
           "zerolinewidth": 2
          }
         }
        },
        "title": {
         "text": "Optimization History Plot"
        },
        "xaxis": {
         "title": {
          "text": "Trial"
         }
        },
        "yaxis": {
         "title": {
          "text": "Objective Value"
         }
        }
       }
      }
     },
     "metadata": {},
     "output_type": "display_data"
    }
   ],
   "source": [
    "import optuna.visualization as vis\n",
    "\n",
    "# Plot optimization history\n",
    "fig = vis.plot_optimization_history(study)\n",
    "fig.show()"
   ]
  },
  {
   "cell_type": "code",
   "execution_count": 93,
   "metadata": {},
   "outputs": [
    {
     "data": {
      "text/plain": [
       "{'embedding_dim': 212,\n",
       " 'conv_filters': 225,\n",
       " 'kernel_size': 5,\n",
       " 'dense_units': 160,\n",
       " 'dropout_rate': 0.2532190218019172,\n",
       " 'learning_rate': 0.00023328075189033595}"
      ]
     },
     "execution_count": 93,
     "metadata": {},
     "output_type": "execute_result"
    }
   ],
   "source": [
    "best_params = study.best_params\n",
    "best_params"
   ]
  },
  {
   "cell_type": "markdown",
   "metadata": {},
   "source": [
    "## Final Model Development"
   ]
  },
  {
   "cell_type": "code",
   "execution_count": 55,
   "metadata": {},
   "outputs": [
    {
     "name": "stdout",
     "output_type": "stream",
     "text": [
      "Class weights: {0: 3.8217666849229324, 1: 0.5752611557984242}\n",
      "Epoch 1/10\n",
      "\u001b[1m1527/1527\u001b[0m \u001b[32m━━━━━━━━━━━━━━━━━━━━\u001b[0m\u001b[37m\u001b[0m \u001b[1m740s\u001b[0m 484ms/step - accuracy: 0.8157 - loss: 0.3873 - val_accuracy: 0.9162 - val_loss: 0.2101\n",
      "Epoch 2/10\n",
      "\u001b[1m1527/1527\u001b[0m \u001b[32m━━━━━━━━━━━━━━━━━━━━\u001b[0m\u001b[37m\u001b[0m \u001b[1m760s\u001b[0m 498ms/step - accuracy: 0.9428 - loss: 0.1473 - val_accuracy: 0.9193 - val_loss: 0.2050\n",
      "Epoch 3/10\n",
      "\u001b[1m1527/1527\u001b[0m \u001b[32m━━━━━━━━━━━━━━━━━━━━\u001b[0m\u001b[37m\u001b[0m \u001b[1m819s\u001b[0m 536ms/step - accuracy: 0.9663 - loss: 0.0872 - val_accuracy: 0.9364 - val_loss: 0.1684\n",
      "Epoch 4/10\n",
      "\u001b[1m1527/1527\u001b[0m \u001b[32m━━━━━━━━━━━━━━━━━━━━\u001b[0m\u001b[37m\u001b[0m \u001b[1m835s\u001b[0m 547ms/step - accuracy: 0.9851 - loss: 0.0410 - val_accuracy: 0.9506 - val_loss: 0.1459\n",
      "Epoch 5/10\n",
      "\u001b[1m1527/1527\u001b[0m \u001b[32m━━━━━━━━━━━━━━━━━━━━\u001b[0m\u001b[37m\u001b[0m \u001b[1m835s\u001b[0m 547ms/step - accuracy: 0.9947 - loss: 0.0177 - val_accuracy: 0.9510 - val_loss: 0.1728\n",
      "Epoch 6/10\n",
      "\u001b[1m1527/1527\u001b[0m \u001b[32m━━━━━━━━━━━━━━━━━━━━\u001b[0m\u001b[37m\u001b[0m \u001b[1m774s\u001b[0m 507ms/step - accuracy: 0.9978 - loss: 0.0076 - val_accuracy: 0.9582 - val_loss: 0.1795\n",
      "Epoch 7/10\n",
      "\u001b[1m1527/1527\u001b[0m \u001b[32m━━━━━━━━━━━━━━━━━━━━\u001b[0m\u001b[37m\u001b[0m \u001b[1m663s\u001b[0m 434ms/step - accuracy: 0.9996 - loss: 0.0022 - val_accuracy: 0.9504 - val_loss: 0.2255\n"
     ]
    },
    {
     "data": {
      "text/html": [
       "<pre style=\"white-space:pre;overflow-x:auto;line-height:normal;font-family:Menlo,'DejaVu Sans Mono',consolas,'Courier New',monospace\"><span style=\"font-weight: bold\">Model: \"sequential_12\"</span>\n",
       "</pre>\n"
      ],
      "text/plain": [
       "\u001b[1mModel: \"sequential_12\"\u001b[0m\n"
      ]
     },
     "metadata": {},
     "output_type": "display_data"
    },
    {
     "data": {
      "text/html": [
       "<pre style=\"white-space:pre;overflow-x:auto;line-height:normal;font-family:Menlo,'DejaVu Sans Mono',consolas,'Courier New',monospace\">┏━━━━━━━━━━━━━━━━━━━━━━━━━━━━━━━━━┳━━━━━━━━━━━━━━━━━━━━━━━━┳━━━━━━━━━━━━━━━┓\n",
       "┃<span style=\"font-weight: bold\"> Layer (type)                    </span>┃<span style=\"font-weight: bold\"> Output Shape           </span>┃<span style=\"font-weight: bold\">       Param # </span>┃\n",
       "┡━━━━━━━━━━━━━━━━━━━━━━━━━━━━━━━━━╇━━━━━━━━━━━━━━━━━━━━━━━━╇━━━━━━━━━━━━━━━┩\n",
       "│ embedding_12 (<span style=\"color: #0087ff; text-decoration-color: #0087ff\">Embedding</span>)        │ (<span style=\"color: #00d7ff; text-decoration-color: #00d7ff\">None</span>, <span style=\"color: #00af00; text-decoration-color: #00af00\">1026</span>, <span style=\"color: #00af00; text-decoration-color: #00af00\">212</span>)      │    <span style=\"color: #00af00; text-decoration-color: #00af00\">44,023,284</span> │\n",
       "├─────────────────────────────────┼────────────────────────┼───────────────┤\n",
       "│ conv1d_12 (<span style=\"color: #0087ff; text-decoration-color: #0087ff\">Conv1D</span>)              │ (<span style=\"color: #00d7ff; text-decoration-color: #00d7ff\">None</span>, <span style=\"color: #00af00; text-decoration-color: #00af00\">1022</span>, <span style=\"color: #00af00; text-decoration-color: #00af00\">225</span>)      │       <span style=\"color: #00af00; text-decoration-color: #00af00\">238,725</span> │\n",
       "├─────────────────────────────────┼────────────────────────┼───────────────┤\n",
       "│ global_max_pooling1d_12         │ (<span style=\"color: #00d7ff; text-decoration-color: #00d7ff\">None</span>, <span style=\"color: #00af00; text-decoration-color: #00af00\">225</span>)            │             <span style=\"color: #00af00; text-decoration-color: #00af00\">0</span> │\n",
       "│ (<span style=\"color: #0087ff; text-decoration-color: #0087ff\">GlobalMaxPooling1D</span>)            │                        │               │\n",
       "├─────────────────────────────────┼────────────────────────┼───────────────┤\n",
       "│ dense_24 (<span style=\"color: #0087ff; text-decoration-color: #0087ff\">Dense</span>)                │ (<span style=\"color: #00d7ff; text-decoration-color: #00d7ff\">None</span>, <span style=\"color: #00af00; text-decoration-color: #00af00\">160</span>)            │        <span style=\"color: #00af00; text-decoration-color: #00af00\">36,160</span> │\n",
       "├─────────────────────────────────┼────────────────────────┼───────────────┤\n",
       "│ dropout_12 (<span style=\"color: #0087ff; text-decoration-color: #0087ff\">Dropout</span>)            │ (<span style=\"color: #00d7ff; text-decoration-color: #00d7ff\">None</span>, <span style=\"color: #00af00; text-decoration-color: #00af00\">160</span>)            │             <span style=\"color: #00af00; text-decoration-color: #00af00\">0</span> │\n",
       "├─────────────────────────────────┼────────────────────────┼───────────────┤\n",
       "│ dense_25 (<span style=\"color: #0087ff; text-decoration-color: #0087ff\">Dense</span>)                │ (<span style=\"color: #00d7ff; text-decoration-color: #00d7ff\">None</span>, <span style=\"color: #00af00; text-decoration-color: #00af00\">1</span>)              │           <span style=\"color: #00af00; text-decoration-color: #00af00\">161</span> │\n",
       "└─────────────────────────────────┴────────────────────────┴───────────────┘\n",
       "</pre>\n"
      ],
      "text/plain": [
       "┏━━━━━━━━━━━━━━━━━━━━━━━━━━━━━━━━━┳━━━━━━━━━━━━━━━━━━━━━━━━┳━━━━━━━━━━━━━━━┓\n",
       "┃\u001b[1m \u001b[0m\u001b[1mLayer (type)                   \u001b[0m\u001b[1m \u001b[0m┃\u001b[1m \u001b[0m\u001b[1mOutput Shape          \u001b[0m\u001b[1m \u001b[0m┃\u001b[1m \u001b[0m\u001b[1m      Param #\u001b[0m\u001b[1m \u001b[0m┃\n",
       "┡━━━━━━━━━━━━━━━━━━━━━━━━━━━━━━━━━╇━━━━━━━━━━━━━━━━━━━━━━━━╇━━━━━━━━━━━━━━━┩\n",
       "│ embedding_12 (\u001b[38;5;33mEmbedding\u001b[0m)        │ (\u001b[38;5;45mNone\u001b[0m, \u001b[38;5;34m1026\u001b[0m, \u001b[38;5;34m212\u001b[0m)      │    \u001b[38;5;34m44,023,284\u001b[0m │\n",
       "├─────────────────────────────────┼────────────────────────┼───────────────┤\n",
       "│ conv1d_12 (\u001b[38;5;33mConv1D\u001b[0m)              │ (\u001b[38;5;45mNone\u001b[0m, \u001b[38;5;34m1022\u001b[0m, \u001b[38;5;34m225\u001b[0m)      │       \u001b[38;5;34m238,725\u001b[0m │\n",
       "├─────────────────────────────────┼────────────────────────┼───────────────┤\n",
       "│ global_max_pooling1d_12         │ (\u001b[38;5;45mNone\u001b[0m, \u001b[38;5;34m225\u001b[0m)            │             \u001b[38;5;34m0\u001b[0m │\n",
       "│ (\u001b[38;5;33mGlobalMaxPooling1D\u001b[0m)            │                        │               │\n",
       "├─────────────────────────────────┼────────────────────────┼───────────────┤\n",
       "│ dense_24 (\u001b[38;5;33mDense\u001b[0m)                │ (\u001b[38;5;45mNone\u001b[0m, \u001b[38;5;34m160\u001b[0m)            │        \u001b[38;5;34m36,160\u001b[0m │\n",
       "├─────────────────────────────────┼────────────────────────┼───────────────┤\n",
       "│ dropout_12 (\u001b[38;5;33mDropout\u001b[0m)            │ (\u001b[38;5;45mNone\u001b[0m, \u001b[38;5;34m160\u001b[0m)            │             \u001b[38;5;34m0\u001b[0m │\n",
       "├─────────────────────────────────┼────────────────────────┼───────────────┤\n",
       "│ dense_25 (\u001b[38;5;33mDense\u001b[0m)                │ (\u001b[38;5;45mNone\u001b[0m, \u001b[38;5;34m1\u001b[0m)              │           \u001b[38;5;34m161\u001b[0m │\n",
       "└─────────────────────────────────┴────────────────────────┴───────────────┘\n"
      ]
     },
     "metadata": {},
     "output_type": "display_data"
    },
    {
     "data": {
      "text/html": [
       "<pre style=\"white-space:pre;overflow-x:auto;line-height:normal;font-family:Menlo,'DejaVu Sans Mono',consolas,'Courier New',monospace\"><span style=\"font-weight: bold\"> Total params: </span><span style=\"color: #00af00; text-decoration-color: #00af00\">132,894,992</span> (506.95 MB)\n",
       "</pre>\n"
      ],
      "text/plain": [
       "\u001b[1m Total params: \u001b[0m\u001b[38;5;34m132,894,992\u001b[0m (506.95 MB)\n"
      ]
     },
     "metadata": {},
     "output_type": "display_data"
    },
    {
     "data": {
      "text/html": [
       "<pre style=\"white-space:pre;overflow-x:auto;line-height:normal;font-family:Menlo,'DejaVu Sans Mono',consolas,'Courier New',monospace\"><span style=\"font-weight: bold\"> Trainable params: </span><span style=\"color: #00af00; text-decoration-color: #00af00\">44,298,330</span> (168.98 MB)\n",
       "</pre>\n"
      ],
      "text/plain": [
       "\u001b[1m Trainable params: \u001b[0m\u001b[38;5;34m44,298,330\u001b[0m (168.98 MB)\n"
      ]
     },
     "metadata": {},
     "output_type": "display_data"
    },
    {
     "data": {
      "text/html": [
       "<pre style=\"white-space:pre;overflow-x:auto;line-height:normal;font-family:Menlo,'DejaVu Sans Mono',consolas,'Courier New',monospace\"><span style=\"font-weight: bold\"> Non-trainable params: </span><span style=\"color: #00af00; text-decoration-color: #00af00\">0</span> (0.00 B)\n",
       "</pre>\n"
      ],
      "text/plain": [
       "\u001b[1m Non-trainable params: \u001b[0m\u001b[38;5;34m0\u001b[0m (0.00 B)\n"
      ]
     },
     "metadata": {},
     "output_type": "display_data"
    },
    {
     "data": {
      "text/html": [
       "<pre style=\"white-space:pre;overflow-x:auto;line-height:normal;font-family:Menlo,'DejaVu Sans Mono',consolas,'Courier New',monospace\"><span style=\"font-weight: bold\"> Optimizer params: </span><span style=\"color: #00af00; text-decoration-color: #00af00\">88,596,662</span> (337.97 MB)\n",
       "</pre>\n"
      ],
      "text/plain": [
       "\u001b[1m Optimizer params: \u001b[0m\u001b[38;5;34m88,596,662\u001b[0m (337.97 MB)\n"
      ]
     },
     "metadata": {},
     "output_type": "display_data"
    }
   ],
   "source": [
    "# Configure a basic model with randomly selected paramerers\n",
    "VOCAB_SIZE = vocab_size\n",
    "\n",
    "# Model Architecture\n",
    "model = Sequential()\n",
    "model.add(Embedding(input_dim=VOCAB_SIZE, output_dim=best_params['embedding_dim']))\n",
    "\n",
    "model.add(Conv1D(filters=best_params['conv_filters'], kernel_size=best_params['kernel_size'], activation='relu'))\n",
    "\n",
    "model.add(GlobalMaxPooling1D())\n",
    "\n",
    "model.add(Dense(best_params['dense_units'], activation='relu'))\n",
    "model.add(Dropout(best_params['dropout_rate']))\n",
    "\n",
    "model.add(Dense(1, activation='sigmoid'))\n",
    "\n",
    "# Compile the model\n",
    "model.compile(optimizer=Adam(learning_rate=best_params['learning_rate']), loss='binary_crossentropy', metrics=['accuracy'])\n",
    "\n",
    "# Calculate class weights\n",
    "class_weights = compute_class_weight('balanced', classes=np.unique(y_train), y=y_train)\n",
    "class_weights = dict(enumerate(class_weights))\n",
    "\n",
    "# Print class weights\n",
    "print(\"Class weights:\", class_weights)\n",
    "\n",
    "# Train the model\n",
    "history = model.fit(X_train, y_train, \n",
    "                    epochs=10, \n",
    "                    batch_size=128, \n",
    "                    validation_data=(X_val, y_val), \n",
    "                    class_weight=class_weights,\n",
    "                    callbacks=[early_stopping])\n",
    "\n",
    "model.summary()"
   ]
  },
  {
   "cell_type": "code",
   "execution_count": 56,
   "metadata": {},
   "outputs": [
    {
     "data": {
      "image/png": "[encoded data removed]",
      "text/plain": [
       "<Figure size 1200x400 with 1 Axes>"
      ]
     },
     "metadata": {},
     "output_type": "display_data"
    }
   ],
   "source": [
    "# Plot training history\n",
    "plt.figure(figsize=(12, 4))\n",
    "\n",
    "# Plot training & validation loss values\n",
    "plt.subplot(1, 2, 2)\n",
    "plt.plot(history.history['loss'])\n",
    "plt.plot(history.history['val_loss'])\n",
    "plt.title('Model loss')\n",
    "plt.xlabel('Epoch')\n",
    "plt.ylabel('Loss')\n",
    "plt.legend(['Train', 'Validation'], loc='upper left')\n",
    "\n",
    "plt.show()"
   ]
  },
  {
   "cell_type": "code",
   "execution_count": 57,
   "metadata": {},
   "outputs": [
    {
     "name": "stdout",
     "output_type": "stream",
     "text": [
      "\u001b[1m2036/2036\u001b[0m \u001b[32m━━━━━━━━━━━━━━━━━━━━\u001b[0m\u001b[37m\u001b[0m \u001b[1m58s\u001b[0m 29ms/step - accuracy: 0.9519 - loss: 0.1435\n"
     ]
    },
    {
     "data": {
      "text/plain": [
       "[0.1401546746492386, 0.9527552723884583]"
      ]
     },
     "execution_count": 57,
     "metadata": {},
     "output_type": "execute_result"
    }
   ],
   "source": [
    "# Model evaluation\n",
    "model.evaluate(X_test, y_test)"
   ]
  },
  {
   "cell_type": "code",
   "execution_count": 95,
   "metadata": {},
   "outputs": [
    {
     "name": "stdout",
     "output_type": "stream",
     "text": [
      "\u001b[1m2036/2036\u001b[0m \u001b[32m━━━━━━━━━━━━━━━━━━━━\u001b[0m\u001b[37m\u001b[0m \u001b[1m57s\u001b[0m 28ms/step\n",
      "Confusion Matrix:\n",
      "[[ 7471  1040]\n",
      " [ 2037 54581]]\n"
     ]
    },
    {
     "data": {
      "image/png": "[encoded data removed]",
      "text/plain": [
       "<Figure size 640x480 with 2 Axes>"
      ]
     },
     "metadata": {},
     "output_type": "display_data"
    },
    {
     "name": "stdout",
     "output_type": "stream",
     "text": [
      "Test Accuracy: 0.95\n",
      "Test Classification Report:\n",
      "              precision    recall  f1-score   support\n",
      "\n",
      "    Negative       0.79      0.88      0.83      8511\n",
      "    Positive       0.98      0.96      0.97     56618\n",
      "\n",
      "    accuracy                           0.95     65129\n",
      "   macro avg       0.88      0.92      0.90     65129\n",
      "weighted avg       0.96      0.95      0.95     65129\n",
      "\n"
     ]
    }
   ],
   "source": [
    "# Generate predictions\n",
    "y_pred_prob = model.predict(X_test)\n",
    "y_pred = (y_pred_prob > 0.5).astype(int)\n",
    "\n",
    "# Create the confusion matrix\n",
    "conf_matrix = confusion_matrix(y_test, y_pred)\n",
    "\n",
    "# Print the confusion matrix\n",
    "print(\"Confusion Matrix:\")\n",
    "print(conf_matrix)\n",
    "\n",
    "# Optionally, visualize the confusion matrix\n",
    "disp = ConfusionMatrixDisplay(confusion_matrix=conf_matrix, display_labels=['Negative', 'Positive'])\n",
    "disp.plot(cmap='Blues')\n",
    "plt.title('Confusion Matrix')\n",
    "plt.show()\n",
    "\n",
    "# Print classification report\n",
    "test_acc = accuracy_score(y_test, y_pred)\n",
    "print(f'Test Accuracy: {test_acc:.2f}')\n",
    "print(\"Test Classification Report:\")\n",
    "print(classification_report(y_test, y_pred, target_names=['Negative', 'Positive']))\n"
   ]
  }
 ],
 "metadata": {
  "kernelspec": {
   "display_name": "base",
   "language": "python",
   "name": "python3"
  },
  "language_info": {
   "codemirror_mode": {
    "name": "ipython",
    "version": 3
   },
   "file_extension": ".py",
   "mimetype": "text/x-python",
   "name": "python",
   "nbconvert_exporter": "python",
   "pygments_lexer": "ipython3",
   "version": "3.11.7"
  }
 },
 "nbformat": 4,
 "nbformat_minor": 2
}
